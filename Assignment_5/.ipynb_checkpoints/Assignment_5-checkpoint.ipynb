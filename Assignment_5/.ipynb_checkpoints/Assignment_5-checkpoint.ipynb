{
 "cells": [
  {
   "cell_type": "markdown",
   "metadata": {},
   "source": [
    "# Assignment 5 - Reinforcement Learning\n",
    "\n",
    "## *Joaquin Menendez*\n",
    "Netid:  *jm622*"
   ]
  },
  {
   "cell_type": "markdown",
   "metadata": {},
   "source": [
    "### Blackjack\n",
    "\n",
    "Your goal is to develop a reinforcement learning technique to learn the optimal policy for winning at blackjack. Here, we're going to modify the rules from traditional blackjack a bit in a way that corresponds to the game presented in Sutton and Barto's *Reinforcement Learning: An Introduction* (Chapter 5, example 5.1). A full implementation of the game is provided and usage examples are detailed in the class header below.\n",
    "\n",
    "The rules of this modified version of the game of blackjack are as follows:\n",
    "\n",
    "- Blackjack is a card game where the goal is to obtain cards that sum to as near as possible to 21 without going over.  We're playing against a fixed (autonomous) dealer.\n",
    "- Face cards (Jack, Queen, King) have point value 10. Aces can either count as 11 or 1, and we're refer to it as 'usable' at 11 (indicating that it could be used as a '1' if need be. This game is placed with a deck of cards sampled with replacement.\n",
    "- The game starts with each (player and dealer) having one face up and one face down card.\n",
    "- The player can request additional cards (hit, or action '1') until they decide to stop (stay, action '0') or exceed 21 (bust, the game ends and player loses).\n",
    "- After the player stays, the dealer reveals their facedown card, and draws until their sum is 17 or greater. If the dealer goes bust the player wins. If neither player nor dealer busts, the outcome (win, lose, draw) is decided by whose sum is closer to 21.  The reward for winning is +1, drawing is 0, and losing is -1.\n",
    "\n",
    "\n",
    "\n",
    "You will accomplish three things:\n",
    "1. Try your hand at this game of blackjack and see what your human reinforcement learning system is able to achieve\n",
    "2. Evaluate a simple policy using Monte Carlo policy evaluation\n",
    "3. Determine an optimal policy using Monte Carlo control\n",
    "\n",
    "*This problem is adapted from David Silver's [excellent series on Reinforcement Learning](http://www0.cs.ucl.ac.uk/staff/d.silver/web/Teaching.html) at University College London*"
   ]
  },
  {
   "cell_type": "markdown",
   "metadata": {},
   "source": [
    "## 1\n",
    "\n",
    "### [10 points] Human reinforcement learning \n",
    "\n",
    "Using the code detailed below, play 50 hands of blackjack, and record your overall average reward. This will help you get accustomed with how the game works, the data structures involved with representing states, and what strategies are most effective."
   ]
  },
  {
   "cell_type": "code",
   "execution_count": 294,
   "metadata": {
    "collapsed": true
   },
   "outputs": [],
   "source": [
    "import numpy as np\n",
    "\n",
    "class Blackjack():\n",
    "    \"\"\"Simple blackjack environment adapted from OpenAI Gym:\n",
    "        https://github.com/openai/gym/blob/master/gym/envs/toy_text/blackjack.py\n",
    "    \n",
    "    Blackjack is a card game where the goal is to obtain cards that sum to as\n",
    "    near as possible to 21 without going over.  They're playing against a fixed\n",
    "    dealer.\n",
    "    \n",
    "    Face cards (Jack, Queen, King) have point value 10.\n",
    "    Aces can either count as 11 or 1, and it's called 'usable' at 11.\n",
    "    This game is placed with a deck sampled with replacement.\n",
    "    \n",
    "    The game starts with each (player and dealer) having one face up and one\n",
    "    face down card.\n",
    "    \n",
    "    The player can request additional cards (hit = 1) until they decide to stop\n",
    "    (stay = 0) or exceed 21 (bust).\n",
    "    \n",
    "    After the player stays, the dealer reveals their facedown card, and draws\n",
    "    until their sum is 17 or greater.  If the dealer goes bust the player wins.\n",
    "    If neither player nor dealer busts, the outcome (win, lose, draw) is\n",
    "    decided by whose sum is closer to 21.  The reward for winning is +1,\n",
    "    drawing is 0, and losing is -1.\n",
    "    \n",
    "    The observation is a 3-tuple of: the players current sum,\n",
    "    the dealer's one showing card (1-10 where 1 is ace),\n",
    "    and whether or not the player holds a usable ace (0 or 1).\n",
    "    \n",
    "    This environment corresponds to the version of the blackjack problem\n",
    "    described in Example 5.1 in Reinforcement Learning: An Introduction\n",
    "    by Sutton and Barto (1998).\n",
    "    \n",
    "    http://incompleteideas.net/sutton/book/the-book.html\n",
    "    \n",
    "    Usage: \n",
    "        Initialize the class:\n",
    "            game = Blackjack()\n",
    "        \n",
    "        Deal the cards:\n",
    "            game.deal()\n",
    "            \n",
    "             (14, 3, False)\n",
    "             \n",
    "            This is the agent's observation of the state of the game:\n",
    "            The first value is the sum of cards in your hand (14 in this case)\n",
    "            The second is the visible card in the dealer's hand (3 in this case)\n",
    "            The Boolean is a flag (False in this case) to indicate whether or \n",
    "                not you have a usable Ace\n",
    "            (Note: if you have a usable ace, the sum will treat the ace as a \n",
    "                value of '11' - this is the case if this Boolean flag is \"true\")\n",
    "            \n",
    "        Take an action: Hit (1) or stay (0)\n",
    "        \n",
    "            Take a hit: game.step(1)\n",
    "            To Stay:    game.step(0)\n",
    "            \n",
    "        The output summarizes the game status:\n",
    "            \n",
    "            ((15, 3, False), 0, False)\n",
    "            \n",
    "            The first tuple (15, 3, False), is the agent's observation of the\n",
    "            state of the game as described above.\n",
    "            The second value (0) indicates the rewards\n",
    "            The third value (False) indicates whether the game is finished\n",
    "    \"\"\"\n",
    "    def Usable_Ace(self,ace = True):   #Small modification to make easier to code the without ace part\n",
    "        self.Usable_Ace = ace\n",
    "        return Usable_Ace\n",
    "    \n",
    "    def __init__(self):\n",
    "        # 1 = Ace, 2-10 = Number cards, Jack/Queen/King = 10\n",
    "        self.deck   = [1, 2, 3, 4, 5, 6, 7, 8, 9, 10, 10, 10, 10]\n",
    "        self.dealer = []\n",
    "        self.player = []\n",
    "        self.Usable_Ace = True\n",
    "        self.deal()\n",
    "\n",
    "    def step(self, action):\n",
    "        if action == 1:  # hit: add a card to players hand and return\n",
    "            self.player.append(self.draw_card())\n",
    "            if self.is_bust(self.player):\n",
    "                done = True\n",
    "                reward = -1\n",
    "            else:\n",
    "                done = False\n",
    "                reward = 0\n",
    "        else:  # stay: play out the dealers hand, and score\n",
    "            done = True\n",
    "            while self.sum_hand(self.dealer) < 17:\n",
    "                self.dealer.append(self.draw_card())\n",
    "            reward = self.cmp(self.score(self.player), self.score(self.dealer))\n",
    "        return self._get_obs(), reward, done\n",
    "\n",
    "    def _get_obs(self):\n",
    "        return (self.sum_hand(self.player), self.dealer[0], self.usable_ace(self.player))\n",
    "\n",
    "    def deal(self):\n",
    "        self.dealer = self.draw_hand()\n",
    "        self.player = self.draw_hand()\n",
    "        return self._get_obs()\n",
    "    \n",
    "    #------------------------------------------\n",
    "    # Other helper functions\n",
    "    #------------------------------------------\n",
    "    def cmp(self, a, b):\n",
    "        return float(a > b) - float(a < b)\n",
    "    \n",
    "    def draw_card(self):\n",
    "        return int(np.random.choice(self.deck))\n",
    "    \n",
    "    def draw_hand(self):\n",
    "        return [self.draw_card(), self.draw_card()]\n",
    "    \n",
    "    def usable_ace(self,hand):  # Does this hand have a usable ace?\n",
    "        if self.Usable_Ace == True:\n",
    "            return 1 in hand and sum(hand) + 10 <= 21\n",
    "        else: \n",
    "            return False\n",
    "    \n",
    "    def sum_hand(self,hand):  # Return current hand total\n",
    "        if self.usable_ace(hand):\n",
    "            return sum(hand) + 10\n",
    "        return sum(hand)\n",
    "    \n",
    "    def is_bust(self,hand):  # Is this hand a bust?\n",
    "        return self.sum_hand(hand) > 21\n",
    "    \n",
    "    def score(self,hand):  # What is the score of this hand (0 if bust)\n",
    "        return 0 if self.is_bust(hand) else self.sum_hand(hand)"
   ]
  },
  {
   "cell_type": "markdown",
   "metadata": {},
   "source": [
    "Here's an example of how it works to get you started:"
   ]
  },
  {
   "cell_type": "code",
   "execution_count": 2,
   "metadata": {},
   "outputs": [
    {
     "name": "stdout",
     "output_type": "stream",
     "text": [
      "(6, 2, False)\n",
      "[4, 2]\n",
      "((13, 2, False), 0, False)\n",
      "[4, 2, 7]\n",
      "((13, 2, False), 1.0, True)\n",
      "(13, 2, False)\n"
     ]
    }
   ],
   "source": [
    "import numpy as np\n",
    "\n",
    "# Initialize the class:\n",
    "game = Blackjack()\n",
    "game.Usable_Ace = False# Small modification to make the nex exercise easier\n",
    "\n",
    "# Deal the cards:\n",
    "s0 = game.deal()\n",
    "print(s0)\n",
    "print(game.player)\n",
    "\n",
    "# Take an action: Hit = 1 or stay = 0. Here's a hit:\n",
    "s1 = game.step(1)\n",
    "print(s1)\n",
    "print(game.player)\n",
    "\n",
    "# If you wanted to stay:\n",
    "s2 = game.step(2)\n",
    "print(s2)\n",
    "# When it's gameover, just redeal:\n",
    "# game.deal()\n",
    "\n",
    "print(game._get_obs())\n"
   ]
  },
  {
   "cell_type": "markdown",
   "metadata": {},
   "source": [
    "**ANSWER**"
   ]
  },
  {
   "cell_type": "code",
   "execution_count": 11,
   "metadata": {},
   "outputs": [
    {
     "name": "stdout",
     "output_type": "stream",
     "text": [
      "Hand number: 1\n",
      "(18, 1, False)\n"
     ]
    },
    {
     "name": "stdin",
     "output_type": "stream",
     "text": [
      "Continue (1) or step (2)?:  2\n"
     ]
    },
    {
     "name": "stdout",
     "output_type": "stream",
     "text": [
      "((18, 1, False), -1.0, True)\n",
      "Hand number: 2\n",
      "(6, 7, False)\n"
     ]
    },
    {
     "name": "stdin",
     "output_type": "stream",
     "text": [
      "Continue (1) or step (2)?:  1\n"
     ]
    },
    {
     "name": "stdout",
     "output_type": "stream",
     "text": [
      "((9, 7, False), 0, False)\n"
     ]
    },
    {
     "name": "stdin",
     "output_type": "stream",
     "text": [
      "Continue (1) or step (2)?:  1\n"
     ]
    },
    {
     "name": "stdout",
     "output_type": "stream",
     "text": [
      "((12, 7, False), 0, False)\n"
     ]
    },
    {
     "name": "stdin",
     "output_type": "stream",
     "text": [
      "Continue (1) or step (2)?:  1\n"
     ]
    },
    {
     "name": "stdout",
     "output_type": "stream",
     "text": [
      "((22, 7, False), -1, True)\n",
      "Hand number: 3\n",
      "(11, 2, False)\n"
     ]
    },
    {
     "name": "stdin",
     "output_type": "stream",
     "text": [
      "Continue (1) or step (2)?:  1\n"
     ]
    },
    {
     "name": "stdout",
     "output_type": "stream",
     "text": [
      "((20, 2, False), 0, False)\n"
     ]
    },
    {
     "name": "stdin",
     "output_type": "stream",
     "text": [
      "Continue (1) or step (2)?:  2\n"
     ]
    },
    {
     "name": "stdout",
     "output_type": "stream",
     "text": [
      "((20, 2, False), -1.0, True)\n",
      "Hand number: 4\n",
      "(11, 6, False)\n"
     ]
    },
    {
     "name": "stdin",
     "output_type": "stream",
     "text": [
      "Continue (1) or step (2)?:  1\n"
     ]
    },
    {
     "name": "stdout",
     "output_type": "stream",
     "text": [
      "((14, 6, False), 0, False)\n"
     ]
    },
    {
     "name": "stdin",
     "output_type": "stream",
     "text": [
      "Continue (1) or step (2)?:  1\n"
     ]
    },
    {
     "name": "stdout",
     "output_type": "stream",
     "text": [
      "((17, 6, False), 0, False)\n"
     ]
    },
    {
     "name": "stdin",
     "output_type": "stream",
     "text": [
      "Continue (1) or step (2)?:  2\n"
     ]
    },
    {
     "name": "stdout",
     "output_type": "stream",
     "text": [
      "((17, 6, False), 1.0, True)\n",
      "Hand number: 5\n",
      "(12, 10, False)\n"
     ]
    },
    {
     "name": "stdin",
     "output_type": "stream",
     "text": [
      "Continue (1) or step (2)?:  1\n"
     ]
    },
    {
     "name": "stdout",
     "output_type": "stream",
     "text": [
      "((17, 10, False), 0, False)\n"
     ]
    },
    {
     "name": "stdin",
     "output_type": "stream",
     "text": [
      "Continue (1) or step (2)?:  2\n"
     ]
    },
    {
     "name": "stdout",
     "output_type": "stream",
     "text": [
      "((17, 10, False), -1.0, True)\n",
      "Hand number: 6\n",
      "(20, 8, False)\n"
     ]
    },
    {
     "name": "stdin",
     "output_type": "stream",
     "text": [
      "Continue (1) or step (2)?:  2\n"
     ]
    },
    {
     "name": "stdout",
     "output_type": "stream",
     "text": [
      "((20, 8, False), 1.0, True)\n",
      "Hand number: 7\n",
      "(20, 4, True)\n"
     ]
    },
    {
     "name": "stdin",
     "output_type": "stream",
     "text": [
      "Continue (1) or step (2)?:  2\n"
     ]
    },
    {
     "name": "stdout",
     "output_type": "stream",
     "text": [
      "((20, 4, True), 1.0, True)\n",
      "Hand number: 8\n",
      "(15, 4, False)\n"
     ]
    },
    {
     "name": "stdin",
     "output_type": "stream",
     "text": [
      "Continue (1) or step (2)?:  1\n"
     ]
    },
    {
     "name": "stdout",
     "output_type": "stream",
     "text": [
      "((24, 4, False), -1, True)\n",
      "Hand number: 9\n",
      "(5, 4, False)\n"
     ]
    },
    {
     "name": "stdin",
     "output_type": "stream",
     "text": [
      "Continue (1) or step (2)?:  1\n"
     ]
    },
    {
     "name": "stdout",
     "output_type": "stream",
     "text": [
      "((13, 4, False), 0, False)\n"
     ]
    },
    {
     "name": "stdin",
     "output_type": "stream",
     "text": [
      "Continue (1) or step (2)?:  1\n"
     ]
    },
    {
     "name": "stdout",
     "output_type": "stream",
     "text": [
      "((21, 4, False), 0, False)\n"
     ]
    },
    {
     "name": "stdin",
     "output_type": "stream",
     "text": [
      "Continue (1) or step (2)?:  2\n"
     ]
    },
    {
     "name": "stdout",
     "output_type": "stream",
     "text": [
      "((21, 4, False), 1.0, True)\n",
      "Hand number: 10\n",
      "(13, 10, False)\n"
     ]
    },
    {
     "name": "stdin",
     "output_type": "stream",
     "text": [
      "Continue (1) or step (2)?:  1\n"
     ]
    },
    {
     "name": "stdout",
     "output_type": "stream",
     "text": [
      "((23, 10, False), -1, True)\n",
      "Hand number: 11\n",
      "(4, 1, False)\n"
     ]
    },
    {
     "name": "stdin",
     "output_type": "stream",
     "text": [
      "Continue (1) or step (2)?:  1\n"
     ]
    },
    {
     "name": "stdout",
     "output_type": "stream",
     "text": [
      "((6, 1, False), 0, False)\n"
     ]
    },
    {
     "name": "stdin",
     "output_type": "stream",
     "text": [
      "Continue (1) or step (2)?:  1\n"
     ]
    },
    {
     "name": "stdout",
     "output_type": "stream",
     "text": [
      "((16, 1, False), 0, False)\n"
     ]
    },
    {
     "name": "stdin",
     "output_type": "stream",
     "text": [
      "Continue (1) or step (2)?:  1\n"
     ]
    },
    {
     "name": "stdout",
     "output_type": "stream",
     "text": [
      "((23, 1, False), -1, True)\n",
      "Hand number: 12\n",
      "(11, 10, False)\n"
     ]
    },
    {
     "name": "stdin",
     "output_type": "stream",
     "text": [
      "Continue (1) or step (2)?:  1\n"
     ]
    },
    {
     "name": "stdout",
     "output_type": "stream",
     "text": [
      "((16, 10, False), 0, False)\n"
     ]
    },
    {
     "name": "stdin",
     "output_type": "stream",
     "text": [
      "Continue (1) or step (2)?:  1\n"
     ]
    },
    {
     "name": "stdout",
     "output_type": "stream",
     "text": [
      "((25, 10, False), -1, True)\n",
      "Hand number: 13\n",
      "(18, 10, False)\n"
     ]
    },
    {
     "name": "stdin",
     "output_type": "stream",
     "text": [
      "Continue (1) or step (2)?:  1\n"
     ]
    },
    {
     "name": "stdout",
     "output_type": "stream",
     "text": [
      "((27, 10, False), -1, True)\n",
      "Hand number: 14\n",
      "(14, 1, False)\n"
     ]
    },
    {
     "name": "stdin",
     "output_type": "stream",
     "text": [
      "Continue (1) or step (2)?:  1\n"
     ]
    },
    {
     "name": "stdout",
     "output_type": "stream",
     "text": [
      "((15, 1, False), 0, False)\n"
     ]
    },
    {
     "name": "stdin",
     "output_type": "stream",
     "text": [
      "Continue (1) or step (2)?:  1\n"
     ]
    },
    {
     "name": "stdout",
     "output_type": "stream",
     "text": [
      "((24, 1, False), -1, True)\n",
      "Hand number: 15\n",
      "(14, 10, False)\n"
     ]
    },
    {
     "name": "stdin",
     "output_type": "stream",
     "text": [
      "Continue (1) or step (2)?:  1\n"
     ]
    },
    {
     "name": "stdout",
     "output_type": "stream",
     "text": [
      "((17, 10, False), 0, False)\n"
     ]
    },
    {
     "name": "stdin",
     "output_type": "stream",
     "text": [
      "Continue (1) or step (2)?:  2\n"
     ]
    },
    {
     "name": "stdout",
     "output_type": "stream",
     "text": [
      "((17, 10, False), -1.0, True)\n",
      "Hand number: 16\n",
      "(17, 10, False)\n"
     ]
    },
    {
     "name": "stdin",
     "output_type": "stream",
     "text": [
      "Continue (1) or step (2)?:  2\n"
     ]
    },
    {
     "name": "stdout",
     "output_type": "stream",
     "text": [
      "((17, 10, False), 0.0, True)\n",
      "Hand number: 17\n",
      "(15, 4, False)\n"
     ]
    },
    {
     "name": "stdin",
     "output_type": "stream",
     "text": [
      "Continue (1) or step (2)?:  1\n"
     ]
    },
    {
     "name": "stdout",
     "output_type": "stream",
     "text": [
      "((25, 4, False), -1, True)\n",
      "Hand number: 18\n",
      "(10, 9, False)\n"
     ]
    },
    {
     "name": "stdin",
     "output_type": "stream",
     "text": [
      "Continue (1) or step (2)?:  1\n"
     ]
    },
    {
     "name": "stdout",
     "output_type": "stream",
     "text": [
      "((17, 9, False), 0, False)\n"
     ]
    },
    {
     "name": "stdin",
     "output_type": "stream",
     "text": [
      "Continue (1) or step (2)?:  2\n"
     ]
    },
    {
     "name": "stdout",
     "output_type": "stream",
     "text": [
      "((17, 9, False), 1.0, True)\n",
      "Hand number: 19\n",
      "(18, 10, True)\n"
     ]
    },
    {
     "name": "stdin",
     "output_type": "stream",
     "text": [
      "Continue (1) or step (2)?:  2\n"
     ]
    },
    {
     "name": "stdout",
     "output_type": "stream",
     "text": [
      "((18, 10, True), -1.0, True)\n",
      "Hand number: 20\n",
      "(18, 2, False)\n"
     ]
    },
    {
     "name": "stdin",
     "output_type": "stream",
     "text": [
      "Continue (1) or step (2)?:  2\n"
     ]
    },
    {
     "name": "stdout",
     "output_type": "stream",
     "text": [
      "((18, 2, False), 1.0, True)\n",
      "Hand number: 21\n",
      "(11, 9, False)\n"
     ]
    },
    {
     "name": "stdin",
     "output_type": "stream",
     "text": [
      "Continue (1) or step (2)?:  1\n"
     ]
    },
    {
     "name": "stdout",
     "output_type": "stream",
     "text": [
      "((16, 9, False), 0, False)\n"
     ]
    },
    {
     "name": "stdin",
     "output_type": "stream",
     "text": [
      "Continue (1) or step (2)?:  1\n"
     ]
    },
    {
     "name": "stdout",
     "output_type": "stream",
     "text": [
      "((26, 9, False), -1, True)\n",
      "Hand number: 22\n",
      "(14, 8, False)\n"
     ]
    },
    {
     "name": "stdin",
     "output_type": "stream",
     "text": [
      "Continue (1) or step (2)?:  1\n"
     ]
    },
    {
     "name": "stdout",
     "output_type": "stream",
     "text": [
      "((24, 8, False), -1, True)\n",
      "Hand number: 23\n",
      "(14, 9, False)\n"
     ]
    },
    {
     "name": "stdin",
     "output_type": "stream",
     "text": [
      "Continue (1) or step (2)?:  1\n"
     ]
    },
    {
     "name": "stdout",
     "output_type": "stream",
     "text": [
      "((22, 9, False), -1, True)\n",
      "Hand number: 24\n",
      "(12, 3, True)\n"
     ]
    },
    {
     "name": "stdin",
     "output_type": "stream",
     "text": [
      "Continue (1) or step (2)?:  1\n"
     ]
    },
    {
     "name": "stdout",
     "output_type": "stream",
     "text": [
      "((14, 3, True), 0, False)\n"
     ]
    },
    {
     "name": "stdin",
     "output_type": "stream",
     "text": [
      "Continue (1) or step (2)?:  1\n"
     ]
    },
    {
     "name": "stdout",
     "output_type": "stream",
     "text": [
      "((12, 3, False), 0, False)\n"
     ]
    },
    {
     "name": "stdin",
     "output_type": "stream",
     "text": [
      "Continue (1) or step (2)?:  1\n"
     ]
    },
    {
     "name": "stdout",
     "output_type": "stream",
     "text": [
      "((17, 3, False), 0, False)\n"
     ]
    },
    {
     "name": "stdin",
     "output_type": "stream",
     "text": [
      "Continue (1) or step (2)?:  2\n"
     ]
    },
    {
     "name": "stdout",
     "output_type": "stream",
     "text": [
      "((17, 3, False), -1.0, True)\n",
      "Hand number: 25\n",
      "(8, 9, False)\n"
     ]
    },
    {
     "name": "stdin",
     "output_type": "stream",
     "text": [
      "Continue (1) or step (2)?:  1\n"
     ]
    },
    {
     "name": "stdout",
     "output_type": "stream",
     "text": [
      "((16, 9, False), 0, False)\n"
     ]
    },
    {
     "name": "stdin",
     "output_type": "stream",
     "text": [
      "Continue (1) or step (2)?:  1\n"
     ]
    },
    {
     "name": "stdout",
     "output_type": "stream",
     "text": [
      "((17, 9, False), 0, False)\n"
     ]
    },
    {
     "name": "stdin",
     "output_type": "stream",
     "text": [
      "Continue (1) or step (2)?:  2\n"
     ]
    },
    {
     "name": "stdout",
     "output_type": "stream",
     "text": [
      "((17, 9, False), -1.0, True)\n",
      "Hand number: 26\n",
      "(10, 3, False)\n"
     ]
    },
    {
     "name": "stdin",
     "output_type": "stream",
     "text": [
      "Continue (1) or step (2)?:  1\n"
     ]
    },
    {
     "name": "stdout",
     "output_type": "stream",
     "text": [
      "((15, 3, False), 0, False)\n"
     ]
    },
    {
     "name": "stdin",
     "output_type": "stream",
     "text": [
      "Continue (1) or step (2)?:  1\n"
     ]
    },
    {
     "name": "stdout",
     "output_type": "stream",
     "text": [
      "((25, 3, False), -1, True)\n",
      "Hand number: 27\n",
      "(18, 2, False)\n"
     ]
    },
    {
     "name": "stdin",
     "output_type": "stream",
     "text": [
      "Continue (1) or step (2)?:  2\n"
     ]
    },
    {
     "name": "stdout",
     "output_type": "stream",
     "text": [
      "((18, 2, False), 0.0, True)\n",
      "Hand number: 28\n",
      "(9, 10, False)\n"
     ]
    },
    {
     "name": "stdin",
     "output_type": "stream",
     "text": [
      "Continue (1) or step (2)?:  1\n"
     ]
    },
    {
     "name": "stdout",
     "output_type": "stream",
     "text": [
      "((11, 10, False), 0, False)\n"
     ]
    },
    {
     "name": "stdin",
     "output_type": "stream",
     "text": [
      "Continue (1) or step (2)?:  1\n"
     ]
    },
    {
     "name": "stdout",
     "output_type": "stream",
     "text": [
      "((14, 10, False), 0, False)\n"
     ]
    },
    {
     "name": "stdin",
     "output_type": "stream",
     "text": [
      "Continue (1) or step (2)?:  1\n"
     ]
    },
    {
     "name": "stdout",
     "output_type": "stream",
     "text": [
      "((24, 10, False), -1, True)\n",
      "Hand number: 29\n",
      "(7, 3, False)\n"
     ]
    },
    {
     "name": "stdin",
     "output_type": "stream",
     "text": [
      "Continue (1) or step (2)?:  1\n"
     ]
    },
    {
     "name": "stdout",
     "output_type": "stream",
     "text": [
      "((16, 3, False), 0, False)\n"
     ]
    },
    {
     "name": "stdin",
     "output_type": "stream",
     "text": [
      "Continue (1) or step (2)?:  2\n"
     ]
    },
    {
     "name": "stdout",
     "output_type": "stream",
     "text": [
      "((16, 3, False), 1.0, True)\n",
      "Hand number: 30\n",
      "(5, 2, False)\n"
     ]
    },
    {
     "name": "stdin",
     "output_type": "stream",
     "text": [
      "Continue (1) or step (2)?:  1\n"
     ]
    },
    {
     "name": "stdout",
     "output_type": "stream",
     "text": [
      "((13, 2, False), 0, False)\n"
     ]
    },
    {
     "name": "stdin",
     "output_type": "stream",
     "text": [
      "Continue (1) or step (2)?:  1\n"
     ]
    },
    {
     "name": "stdout",
     "output_type": "stream",
     "text": [
      "((18, 2, False), 0, False)\n"
     ]
    },
    {
     "name": "stdin",
     "output_type": "stream",
     "text": [
      "Continue (1) or step (2)?:  2\n"
     ]
    },
    {
     "name": "stdout",
     "output_type": "stream",
     "text": [
      "((18, 2, False), -1.0, True)\n",
      "Hand number: 31\n",
      "(19, 10, False)\n"
     ]
    },
    {
     "name": "stdin",
     "output_type": "stream",
     "text": [
      "Continue (1) or step (2)?:  2\n"
     ]
    },
    {
     "name": "stdout",
     "output_type": "stream",
     "text": [
      "((19, 10, False), 1.0, True)\n",
      "Hand number: 32\n",
      "(12, 10, False)\n"
     ]
    },
    {
     "name": "stdin",
     "output_type": "stream",
     "text": [
      "Continue (1) or step (2)?:  1\n"
     ]
    },
    {
     "name": "stdout",
     "output_type": "stream",
     "text": [
      "((19, 10, False), 0, False)\n"
     ]
    },
    {
     "name": "stdin",
     "output_type": "stream",
     "text": [
      "Continue (1) or step (2)?:  2\n"
     ]
    },
    {
     "name": "stdout",
     "output_type": "stream",
     "text": [
      "((19, 10, False), -1.0, True)\n",
      "Hand number: 33\n",
      "(21, 10, True)\n"
     ]
    },
    {
     "name": "stdin",
     "output_type": "stream",
     "text": [
      "Continue (1) or step (2)?:  2\n"
     ]
    },
    {
     "name": "stdout",
     "output_type": "stream",
     "text": [
      "((21, 10, True), 1.0, True)\n",
      "Hand number: 34\n",
      "(11, 5, False)\n"
     ]
    },
    {
     "name": "stdin",
     "output_type": "stream",
     "text": [
      "Continue (1) or step (2)?:  1\n"
     ]
    },
    {
     "name": "stdout",
     "output_type": "stream",
     "text": [
      "((14, 5, False), 0, False)\n"
     ]
    },
    {
     "name": "stdin",
     "output_type": "stream",
     "text": [
      "Continue (1) or step (2)?:  1\n"
     ]
    },
    {
     "name": "stdout",
     "output_type": "stream",
     "text": [
      "((24, 5, False), -1, True)\n",
      "Hand number: 35\n",
      "(21, 9, True)\n"
     ]
    },
    {
     "name": "stdin",
     "output_type": "stream",
     "text": [
      "Continue (1) or step (2)?:  2\n"
     ]
    },
    {
     "name": "stdout",
     "output_type": "stream",
     "text": [
      "((21, 9, True), 1.0, True)\n",
      "Hand number: 36\n",
      "(20, 2, False)\n"
     ]
    },
    {
     "name": "stdin",
     "output_type": "stream",
     "text": [
      "Continue (1) or step (2)?:  2\n"
     ]
    },
    {
     "name": "stdout",
     "output_type": "stream",
     "text": [
      "((20, 2, False), 0.0, True)\n",
      "Hand number: 37\n",
      "(12, 9, False)\n"
     ]
    },
    {
     "name": "stdin",
     "output_type": "stream",
     "text": [
      "Continue (1) or step (2)?:  1\n"
     ]
    },
    {
     "name": "stdout",
     "output_type": "stream",
     "text": [
      "((13, 9, False), 0, False)\n"
     ]
    },
    {
     "name": "stdin",
     "output_type": "stream",
     "text": [
      "Continue (1) or step (2)?:  1\n"
     ]
    },
    {
     "name": "stdout",
     "output_type": "stream",
     "text": [
      "((22, 9, False), -1, True)\n",
      "Hand number: 38\n",
      "(12, 6, False)\n"
     ]
    },
    {
     "name": "stdin",
     "output_type": "stream",
     "text": [
      "Continue (1) or step (2)?:  1\n"
     ]
    },
    {
     "name": "stdout",
     "output_type": "stream",
     "text": [
      "((16, 6, False), 0, False)\n"
     ]
    },
    {
     "name": "stdin",
     "output_type": "stream",
     "text": [
      "Continue (1) or step (2)?:  2\n"
     ]
    },
    {
     "name": "stdout",
     "output_type": "stream",
     "text": [
      "((16, 6, False), -1.0, True)\n",
      "Hand number: 39\n",
      "(12, 2, False)\n"
     ]
    },
    {
     "name": "stdin",
     "output_type": "stream",
     "text": [
      "Continue (1) or step (2)?:  1\n"
     ]
    },
    {
     "name": "stdout",
     "output_type": "stream",
     "text": [
      "((15, 2, False), 0, False)\n"
     ]
    },
    {
     "name": "stdin",
     "output_type": "stream",
     "text": [
      "Continue (1) or step (2)?:  1\n"
     ]
    },
    {
     "name": "stdout",
     "output_type": "stream",
     "text": [
      "((19, 2, False), 0, False)\n"
     ]
    },
    {
     "name": "stdin",
     "output_type": "stream",
     "text": [
      "Continue (1) or step (2)?:  2\n"
     ]
    },
    {
     "name": "stdout",
     "output_type": "stream",
     "text": [
      "((19, 2, False), 1.0, True)\n",
      "Hand number: 40\n",
      "(13, 10, False)\n"
     ]
    },
    {
     "name": "stdin",
     "output_type": "stream",
     "text": [
      "Continue (1) or step (2)?:  1\n"
     ]
    },
    {
     "name": "stdout",
     "output_type": "stream",
     "text": [
      "((23, 10, False), -1, True)\n",
      "Hand number: 41\n",
      "(12, 10, False)\n"
     ]
    },
    {
     "name": "stdin",
     "output_type": "stream",
     "text": [
      "Continue (1) or step (2)?:  1\n"
     ]
    },
    {
     "name": "stdout",
     "output_type": "stream",
     "text": [
      "((22, 10, False), -1, True)\n",
      "Hand number: 42\n",
      "(21, 6, True)\n"
     ]
    },
    {
     "name": "stdin",
     "output_type": "stream",
     "text": [
      "Continue (1) or step (2)?:  2\n"
     ]
    },
    {
     "name": "stdout",
     "output_type": "stream",
     "text": [
      "((21, 6, True), 1.0, True)\n",
      "Hand number: 43\n",
      "(10, 9, False)\n"
     ]
    },
    {
     "name": "stdin",
     "output_type": "stream",
     "text": [
      "Continue (1) or step (2)?:  1\n"
     ]
    },
    {
     "name": "stdout",
     "output_type": "stream",
     "text": [
      "((12, 9, False), 0, False)\n"
     ]
    },
    {
     "name": "stdin",
     "output_type": "stream",
     "text": [
      "Continue (1) or step (2)?:  1\n"
     ]
    },
    {
     "name": "stdout",
     "output_type": "stream",
     "text": [
      "((13, 9, False), 0, False)\n"
     ]
    },
    {
     "name": "stdin",
     "output_type": "stream",
     "text": [
      "Continue (1) or step (2)?:  1\n"
     ]
    },
    {
     "name": "stdout",
     "output_type": "stream",
     "text": [
      "((14, 9, False), 0, False)\n"
     ]
    },
    {
     "name": "stdin",
     "output_type": "stream",
     "text": [
      "Continue (1) or step (2)?:  2\n"
     ]
    },
    {
     "name": "stdout",
     "output_type": "stream",
     "text": [
      "((14, 9, False), -1.0, True)\n",
      "Hand number: 44\n",
      "(9, 10, False)\n"
     ]
    },
    {
     "name": "stdin",
     "output_type": "stream",
     "text": [
      "Continue (1) or step (2)?:  1\n"
     ]
    },
    {
     "name": "stdout",
     "output_type": "stream",
     "text": [
      "((14, 10, False), 0, False)\n"
     ]
    },
    {
     "name": "stdin",
     "output_type": "stream",
     "text": [
      "Continue (1) or step (2)?:  1\n"
     ]
    },
    {
     "name": "stdout",
     "output_type": "stream",
     "text": [
      "((20, 10, False), 0, False)\n"
     ]
    },
    {
     "name": "stdin",
     "output_type": "stream",
     "text": [
      "Continue (1) or step (2)?:  2\n"
     ]
    },
    {
     "name": "stdout",
     "output_type": "stream",
     "text": [
      "((20, 10, False), 0.0, True)\n",
      "Hand number: 45\n",
      "(12, 10, False)\n"
     ]
    },
    {
     "name": "stdin",
     "output_type": "stream",
     "text": [
      "Continue (1) or step (2)?:  1\n"
     ]
    },
    {
     "name": "stdout",
     "output_type": "stream",
     "text": [
      "((19, 10, False), 0, False)\n"
     ]
    },
    {
     "name": "stdin",
     "output_type": "stream",
     "text": [
      "Continue (1) or step (2)?:  2\n"
     ]
    },
    {
     "name": "stdout",
     "output_type": "stream",
     "text": [
      "((19, 10, False), -1.0, True)\n",
      "Hand number: 46\n",
      "(12, 2, False)\n"
     ]
    },
    {
     "name": "stdin",
     "output_type": "stream",
     "text": [
      "Continue (1) or step (2)?:  2\n"
     ]
    },
    {
     "name": "stdout",
     "output_type": "stream",
     "text": [
      "((12, 2, False), -1.0, True)\n",
      "Hand number: 47\n",
      "(12, 5, False)\n"
     ]
    },
    {
     "name": "stdin",
     "output_type": "stream",
     "text": [
      "Continue (1) or step (2)?:  1\n"
     ]
    },
    {
     "name": "stdout",
     "output_type": "stream",
     "text": [
      "((13, 5, False), 0, False)\n"
     ]
    },
    {
     "name": "stdin",
     "output_type": "stream",
     "text": [
      "Continue (1) or step (2)?:  2\n"
     ]
    },
    {
     "name": "stdout",
     "output_type": "stream",
     "text": [
      "((13, 5, False), 1.0, True)\n",
      "Hand number: 48\n",
      "(15, 10, False)\n"
     ]
    },
    {
     "name": "stdin",
     "output_type": "stream",
     "text": [
      "Continue (1) or step (2)?:  2\n"
     ]
    },
    {
     "name": "stdout",
     "output_type": "stream",
     "text": [
      "((15, 10, False), -1.0, True)\n",
      "Hand number: 49\n",
      "(14, 8, False)\n"
     ]
    },
    {
     "name": "stdin",
     "output_type": "stream",
     "text": [
      "Continue (1) or step (2)?:  1\n"
     ]
    },
    {
     "name": "stdout",
     "output_type": "stream",
     "text": [
      "((22, 8, False), -1, True)\n",
      "Hand number: 50\n",
      "(8, 7, False)\n"
     ]
    },
    {
     "name": "stdin",
     "output_type": "stream",
     "text": [
      "Continue (1) or step (2)?:  1\n"
     ]
    },
    {
     "name": "stdout",
     "output_type": "stream",
     "text": [
      "((13, 7, False), 0, False)\n"
     ]
    },
    {
     "name": "stdin",
     "output_type": "stream",
     "text": [
      "Continue (1) or step (2)?:  1\n"
     ]
    },
    {
     "name": "stdout",
     "output_type": "stream",
     "text": [
      "((14, 7, False), 0, False)\n"
     ]
    },
    {
     "name": "stdin",
     "output_type": "stream",
     "text": [
      "Continue (1) or step (2)?:  1\n"
     ]
    },
    {
     "name": "stdout",
     "output_type": "stream",
     "text": [
      "((24, 7, False), -1, True)\n"
     ]
    }
   ],
   "source": [
    "hands = []\n",
    "game = Blackjack()\n",
    "\n",
    "for n in range(0,50):    \n",
    "    hands.append(game.deal())\n",
    "    print('Hand number: %d' % (n+1))\n",
    "    print(hands[n])\n",
    "    decision = 0\n",
    "    value = 0\n",
    "    while decision != 2 and value <= 21:\n",
    "        decision = int(input('Continue (1) or step (2)?: '))\n",
    "        if decision == 2:\n",
    "            hands[n] = game.step(2)\n",
    "            print(hands[n])\n",
    "            value = hands[n][0][0]\n",
    "            break\n",
    "        elif decision == 1:\n",
    "            hands[n] = game.step(1)\n",
    "            print(hands[n])\n",
    "            value = hands[n][0][0]"
   ]
  },
  {
   "cell_type": "code",
   "execution_count": 217,
   "metadata": {},
   "outputs": [
    {
     "name": "stdout",
     "output_type": "stream",
     "text": [
      "Total reward won: -20\n",
      "Average reward won: -0.40\n"
     ]
    }
   ],
   "source": [
    "reward = 0\n",
    "for hand in hands:\n",
    "    reward += hand[1]\n",
    "print('Total reward won: %d' %reward)\n",
    "print('Average reward won: %.2f' %(reward/50.0))"
   ]
  },
  {
   "cell_type": "markdown",
   "metadata": {},
   "source": [
    "The data show that my average reward is negative. This indicate that my human policy did not followed the optimal action value. "
   ]
  },
  {
   "cell_type": "markdown",
   "metadata": {},
   "source": [
    "## 2\n",
    "\n",
    "### [40 points] Perform Monte Carlo Policy Evaluation\n",
    "\n",
    "Thinking that you want to make your millions playing blackjack, you decide to test out a policy for playing this game. Your idea is an aggressive strategy: always hit unless the total of your cards adds up to 20 or 21, in which case you stay.\n",
    "\n",
    "**(a)** Use Monte Carlo policy evaluation to evaluate the expected returns from each state. Create plots for these similar to Sutton and Barto, Figure 5.1 where you plot the expected returns for each state. In this case create 2 plots:\n",
    "1. When you have a useable ace, plot the state space with the dealer's card on the x-axis, and the player's sum on the y-axis, and use the 'RdBu' matplotlib colormap and `imshow` to plot the value of each state under the policy described above. The domain of your x and y axes should include all possible states (2 to 21 for the player sum, and 1 to 10 for the dealer's card). Do this for for 10,000 episodes.\n",
    "2. Repeat (1) for the states without a usable ace.\n",
    "3. Repeat (1) for the case of 500,000 episodes.\n",
    "4. Relwat (2) for the case of 500,000 episodes.\n",
    "\n",
    "**(b)** Show a plot of the overall average reward per episode vs the number of episodes. For both the 10,000 episode case and the 500,000 episode case, record the overall average reward for this policy and report that value. "
   ]
  },
  {
   "cell_type": "markdown",
   "metadata": {},
   "source": [
    "**ANSWER**"
   ]
  },
  {
   "cell_type": "code",
   "execution_count": 295,
   "metadata": {},
   "outputs": [],
   "source": [
    "def Play_Blackjack(number_trials = 10000, Usable_Ace = True):\n",
    "    #Defining containers for data\n",
    "    player_hands = np.zeros((21,number_trials)) # Matrix with all the rewards for each state(row) for every trial(columns). Just to have more detailed data\n",
    "    dealer_hands = np.zeros((10,number_trials))\n",
    "    outcome_matrix =  np.zeros((21,10)) # Row player cards, column dealer cards. Number of times a combination appear\n",
    "    reward_matrix = np.zeros((21,10))  # Idem. Sum of rewards for each combination.\n",
    "    #initialize object\n",
    "    game = Blackjack()\n",
    "    game.Usable_Ace = Usable_Ace # With usable aces or not\n",
    "        \n",
    "    for trial in range(0,number_trials):\n",
    "        game.deal()\n",
    "        player_card,dealer_card = game._get_obs()[0:2]\n",
    "        if player_card == 22: continue  #to prevent to continue with 2 aces\n",
    "        row_player = player_card - 1\n",
    "        row_dealer= dealer_card - 1  \n",
    "        #print(game.player, '\\t',player_card,'/',dealer_card,'/', row_player,'/', row_dealer)\n",
    "        outcome_matrix[row_player,row_dealer] += 1\n",
    "        while player_card <= 19:\n",
    "            game.step(1)\n",
    "            player_card = game._get_obs()[0]\n",
    "\n",
    "        reward = game.step(2)[1]\n",
    "        player_hands[row_player,trial] = reward\n",
    "        dealer_hands[row_dealer,trial] = reward\n",
    "        reward_matrix[row_player,row_dealer] += reward\n",
    "    prob_reward_matrix = reward_matrix/outcome_matrix    \n",
    "    return  prob_reward_matrix,outcome_matrix, reward_matrix, dealer_hands , player_hands"
   ]
  },
  {
   "cell_type": "code",
   "execution_count": 296,
   "metadata": {},
   "outputs": [],
   "source": [
    "#import warnings; warnings.simplefilter('ignore')\n",
    "prob_reward_matrix_1ace,outcome_matrix, reward_matrix, dealer_hands , player_hands_10000 = Play_Blackjack(number_trials=10000, Usable_Ace=True)\n",
    "prob_reward_matrix_5ace ,_,_,_,player_hands_500000 = Play_Blackjack(number_trials=500000,Usable_Ace=True)"
   ]
  },
  {
   "cell_type": "code",
   "execution_count": 297,
   "metadata": {},
   "outputs": [],
   "source": [
    "prob_reward_matrix_1noace,outcome_matrix, reward_matrix, dealer_hands , player_hands = Play_Blackjack(number_trials=10000, Usable_Ace=False)\n",
    "prob_reward_matrix_5noace ,_,_,_,_ = Play_Blackjack(number_trials=500000,  Usable_Ace=False)"
   ]
  },
  {
   "cell_type": "code",
   "execution_count": 298,
   "metadata": {},
   "outputs": [
    {
     "data": {
      "image/png": "[encoded data removed]",
      "text/plain": [
       "<Figure size 1440x1440 with 5 Axes>"
      ]
     },
     "metadata": {},
     "output_type": "display_data"
    }
   ],
   "source": [
    "import matplotlib.pyplot as plt\n",
    "plt.subplots(ncols=2,nrows=1,figsize=(20,20),sharey='row')\n",
    "#plt.subplots_adjust(wspace = 1)\n",
    "\n",
    "plt.subplot(2,2,1)\n",
    "plt.imshow(X=prob_reward_matrix_1ace,cmap='jet', origin='lower',vmin=-1, vmax=1)\n",
    "plt.xticks( np.arange(10),[1,2,3,4,5,6,7,8,9,10])\n",
    "plt.yticks( np.arange(1,21), np.linspace(num=20, start= 2, stop= 21))\n",
    "plt.ylabel('Players cards (sum)')\n",
    "plt.xlabel('Dealer showing')\n",
    "plt.ylim(0.5,20.5) # removing nan\n",
    "plt.title('10000 simulations with usable ace')\n",
    "\n",
    "#plt.tight_layout()\n",
    "\n",
    "plt.subplot(2,2,2)\n",
    "plt.imshow(X=prob_reward_matrix_5ace,cmap='jet', origin='lower', vmin=-1, vmax=1)\n",
    "plt.xticks( np.arange(10),[1,2,3,4,5,6,7,8,9,10])\n",
    "plt.yticks( np.arange(1,21), np.linspace(num=20, start= 2, stop= 21))\n",
    "plt.ylabel('Players cards (sum)')\n",
    "plt.xlabel('Dealer showing')\n",
    "plt.ylim(0.5,20.5) # removing nan\n",
    "plt.title('500000 simulations with usable ace')\n",
    "\n",
    "\n",
    "plt.subplot(2,2,3)\n",
    "plt.imshow(X=prob_reward_matrix_1noace,cmap='jet', origin='lower',vmin=-1, vmax=1)\n",
    "plt.xticks( np.arange(10),[1,2,3,4,5,6,7,8,9,10])\n",
    "plt.yticks( np.arange(1,21), np.linspace(num=20, start= 2, stop= 21))\n",
    "plt.ylabel('Players cards (sum)')\n",
    "plt.xlabel('Dealer showing')\n",
    "plt.ylim(0.5,20.5) # removing nan\n",
    "plt.title('10000 simulations without usable ace')\n",
    "\n",
    "#plt.tight_layout()\n",
    "\n",
    "plt.subplot(2,2,4)\n",
    "plt.imshow(X=prob_reward_matrix_5noace,cmap='jet', origin='lower', vmin=-1, vmax=1)\n",
    "plt.xticks( np.arange(10),[1,2,3,4,5,6,7,8,9,10])\n",
    "plt.yticks( np.arange(1,21), np.linspace(num=20, start= 2, stop= 21))\n",
    "plt.ylabel('Players cards (sum)')\n",
    "plt.xlabel('Dealer showing')\n",
    "plt.ylim(0.5,20.5) # removing nan\n",
    "plt.title('500000 simulations without usable ace')\n",
    "cax = plt.axes([.85, 0.15, 0.02, 0.7])\n",
    "plt.colorbar(cax=cax)\n",
    "\n",
    "plt.show()"
   ]
  },
  {
   "cell_type": "markdown",
   "metadata": {},
   "source": [
    "# b)"
   ]
  },
  {
   "cell_type": "markdown",
   "metadata": {},
   "source": [
    "$$ \\text{Average reward} = \\frac{\\sum_{i=1}^{N} \\text{episode}_i}{N} $$"
   ]
  },
  {
   "cell_type": "code",
   "execution_count": 303,
   "metadata": {},
   "outputs": [
    {
     "data": {
      "image/png": "[encoded data removed]",
      "text/plain": [
       "<Figure size 432x288 with 1 Axes>"
      ]
     },
     "metadata": {},
     "output_type": "display_data"
    },
    {
     "name": "stdout",
     "output_type": "stream",
     "text": [
      "Average reward for event 10000 : -0.177\n"
     ]
    }
   ],
   "source": [
    "rewards_per_trial = player_hands_10000.sum(axis=0)\n",
    "averages = []\n",
    "for n,_ in enumerate(rewards_per_trial):\n",
    "    reward = rewards_per_trial[0:(n+1)].sum()\n",
    "    n = n+1\n",
    "    averages.append(reward/n)\n",
    "plt.plot(range(0,len(averages)), averages)   \n",
    "plt.title('Overall average reward per episode [10000]')\n",
    "plt.xlabel('Events')\n",
    "plt.ylabel('Average  reward')\n",
    "plt.show()\n",
    "print('Average reward for event %d : %.3f' %(len(averages),averages[-1]))"
   ]
  },
  {
   "cell_type": "code",
   "execution_count": 304,
   "metadata": {},
   "outputs": [],
   "source": [
    "rewards_per_trial = player_hands_500000.sum(axis=0)\n",
    "averages = []\n",
    "for n,_ in enumerate(rewards_per_trial):\n",
    "    reward = rewards_per_trial[0:(n+1)].sum()\n",
    "    n = n+1\n",
    "    averages.append(reward/n)"
   ]
  },
  {
   "cell_type": "code",
   "execution_count": 305,
   "metadata": {},
   "outputs": [
    {
     "data": {
      "image/png": "[encoded data removed]",
      "text/plain": [
       "<Figure size 432x288 with 1 Axes>"
      ]
     },
     "metadata": {},
     "output_type": "display_data"
    },
    {
     "name": "stdout",
     "output_type": "stream",
     "text": [
      "Average reward for event 500000 : -0.180\n"
     ]
    }
   ],
   "source": [
    "plt.plot(range(0,len(averages)), averages)\n",
    "plt.title('Overall average reward per episode [500000]')\n",
    "plt.xlabel('Events')\n",
    "plt.ylabel('Average reward')\n",
    "plt.show()\n",
    "print('Average reward for event %d : %.3f' %(len(averages),averages[-1]))"
   ]
  },
  {
   "cell_type": "markdown",
   "metadata": {},
   "source": [
    "## 3\n",
    "\n",
    "### [40 points] Perform Monte Carlo Control\n",
    "\n",
    "**(a)** Using Monte Carlo Control through policy iteration, estimate the optimal policy for playing our modified blackjack game to maximize rewards. \n",
    "\n",
    "In doing this, use the following assumptions:\n",
    "1. Initialize the value function and the state value function to all zeros\n",
    "2. Keep a running tally of the number of times the agent visited each state and chose an action. $N(s_t,a_t)$ is the number of times action $a$ has been selected from state $s$. You'll need this to compute the running average. You can implement an online average as: $\\bar{x}_{t} = \\frac{1}{N}x_t + \\frac{N-1}{N}\\bar{x}_{t-1}$ \n",
    "3. Use an $\\epsilon$-greedy exploration strategy with $\\epsilon_t = \\frac{N_0}{N_0 + N(s_t)}$, where we define $N_0 = 100$. Vary $N_0$ as needed.\n",
    "\n",
    "Show your result by plotting the optimal value function: $V^*(s) = max_a Q^*(s,a)$ and the optimal policy $\\pi^*(s)$. Create plots for these similar to Sutton and Barto, Figure 5.2 in the new draft edition, or 5.5 in the original edition. Your results SHOULD be very similar to the plots in that text. For these plots include:\n",
    "1. When you have a useable ace, plot the state space with the dealer's card on the x-axis, and the player's sum on the y-axis, and use the 'RdBu' matplotlib colormap and `imshow` to plot the value of each state under the policy described above. The domain of your x and y axes should include all possible states (2 to 21 for the player sum, and 1 to 10 for the dealer's visible card).\n",
    "2. Repeat (1) for the states without a usable ace.\n",
    "3. A plot of the optimal policy $\\pi^*(s)$ for the states with a usable ace (this plot could be an imshow plot with binary values).\n",
    "4. A plot of the optimal policy $\\pi^*(s)$ for the states without a usable ace (this plot could be an imshow plot with binary values).\n",
    "\n",
    "**(b)** Show a plot of the overall average reward per episode vs the number of episodes. What is the average reward your control strategy was able to achieve?\n",
    "\n",
    "*Note: convergence of this algorithm is extremely slow. You may need to let this run a few million episodes before the policy starts to converge. You're not expected to get EXACTLY the optimal policy, but it should be visibly close.* "
   ]
  },
  {
   "cell_type": "markdown",
   "metadata": {},
   "source": [
    "**ANSWER**"
   ]
  },
  {
   "cell_type": "markdown",
   "metadata": {},
   "source": [
    "## a)"
   ]
  },
  {
   "cell_type": "code",
   "execution_count": 130,
   "metadata": {},
   "outputs": [],
   "source": [
    "value_function = {}  #State Value Function matrix  Vπ(s) = Eπ [Gt|st = s]\n",
    "action_value =   {} #Action value function - Qπ(s,a)\n",
    "Num_states = {} #Number os times a state has been observed\n",
    "n_s_a = {} #  N(st,at)  is the number of times action  'a'  has been selected from state 's' . \n",
    "\n",
    "state = np.arange(2,22) #player cards\n",
    "for state in state:\n",
    "    #creating dictionaries for every value\n",
    "    for croupier in range(1,11):\n",
    "        #for ace in [True,False]:\n",
    "        for ace in [0,1]:\n",
    "            Num_states[(state,croupier,ace)]= 0 \n",
    "            value_function[(state,croupier,ace)] = 0  #ad usable ace\n",
    "            #Action 1 ; #Action 2\n",
    "            action_value[(state,croupier,ace),2] = 0 ; action_value[(state,croupier,ace),1] = 0\n",
    "            n_s_a[(state,croupier,ace),2] = 0 ; n_s_a[(state,croupier,ace),1] = 0"
   ]
  },
  {
   "cell_type": "code",
   "execution_count": 131,
   "metadata": {},
   "outputs": [],
   "source": [
    "def online_avg_action(state, action, reward):  #state is a tuple(3 values) / action an integer[1 or 2] / rewards integer (-1,0,1)\n",
    "    try: \n",
    "        return (reward/n_s_a[state,action]) + ((n_s_a[state,action]-1)/n_s_a[state,action]) * action_value[state,action]\n",
    "    except ZeroDivisionError:\n",
    "        return reward\n",
    "\n",
    "def online_avg_state(state, reward):  #state is a tuple(3 values) / action an integer[1 or 2] / rewards integer (-1,0,1)\n",
    "    try: \n",
    "        return (reward/Num_states[state]) + ((Num_states[state]-1)/Num_states[state]) * value_function[state]\n",
    "    except ZeroDivisionError:\n",
    "        return reward"
   ]
  },
  {
   "cell_type": "code",
   "execution_count": 132,
   "metadata": {},
   "outputs": [],
   "source": [
    "def epsilon(state, N0 = 100):\n",
    "    action = compare_state(state)\n",
    "    not_action = {1:2, 2:1}\n",
    "    prob = 1 - (N0/(N0 + Num_states[state])) \n",
    "    #print('prob: ',prob)\n",
    "    if np.random.binomial(size=1, n=1, p= prob): \n",
    "        return action\n",
    "    else: \n",
    "        return not_action[action]    "
   ]
  },
  {
   "cell_type": "code",
   "execution_count": 133,
   "metadata": {},
   "outputs": [],
   "source": [
    "import random\n",
    "def compare_state(state): \n",
    "    if action_value[state,1] > action_value[state,2]:\n",
    "        return 1\n",
    "    elif action_value[state,1] == action_value[state,2]:\n",
    "        return random.randint(1,2)\n",
    "    else: \n",
    "        return 2"
   ]
  },
  {
   "cell_type": "code",
   "execution_count": 134,
   "metadata": {},
   "outputs": [],
   "source": [
    "def play_blackjack():\n",
    "    game = Blackjack()\n",
    "    states = []\n",
    "    actions = []\n",
    "    state = game.deal()\n",
    "    while True:\n",
    "        states.append(state)\n",
    "        action = epsilon(state, N0=100)\n",
    "        actions.append(action)\n",
    "        (player, croupier, usable_ace),reward,end_game = game.step(action)\n",
    "        state = (player, croupier, usable_ace)\n",
    "        if end_game:\n",
    "            break\n",
    "    return states, reward , actions\n",
    "#for i in range(20): print(play_blackjack())"
   ]
  },
  {
   "cell_type": "code",
   "execution_count": 135,
   "metadata": {},
   "outputs": [],
   "source": [
    "def MDP(iterations=10):\n",
    "    rewards_per_trial = []\n",
    "    averages = []\n",
    "    for _ in range(iterations):\n",
    "        states, reward, actions = play_blackjack()\n",
    "        rewards_per_trial.append(reward)\n",
    "        for n,state in enumerate(states):\n",
    "            value_function[state] = online_avg_state(state,reward)\n",
    "            action_value[state,actions[n]] = online_avg_action(state,actions[n],reward)\n",
    "            n_s_a[state,actions[n]] += 1\n",
    "            Num_states[state] += 1\n",
    "    \n",
    "    #To plot 2.b\n",
    "    for n,_ in enumerate(rewards_per_trial):\n",
    "        reward = sum(rewards_per_trial[0:(n+1)])\n",
    "        n = n+1\n",
    "        averages.append(reward/n)\n",
    "    plt.plot(range(0,len(averages)), averages)\n",
    "    plt.title('Overall average reward per episode [%d]' %len(averages))\n",
    "    plt.xlabel('Events')\n",
    "    plt.ylabel('Average  reward')\n",
    "    plt.show()\n",
    "    print('Average reward for event %d : %.3f' %(len(averages),averages[-1]))\n"
   ]
  },
  {
   "cell_type": "code",
   "execution_count": 136,
   "metadata": {},
   "outputs": [
    {
     "data": {
      "image/png": "[encoded data removed]",
      "text/plain": [
       "<Figure size 432x288 with 1 Axes>"
      ]
     },
     "metadata": {},
     "output_type": "display_data"
    },
    {
     "name": "stdout",
     "output_type": "stream",
     "text": [
      "Average reward for event 300000 : -0.163\n"
     ]
    }
   ],
   "source": [
    "MDP(iterations=300000)"
   ]
  },
  {
   "cell_type": "code",
   "execution_count": 137,
   "metadata": {},
   "outputs": [],
   "source": [
    "value_state_matrix_ace = np.zeros((21,10))\n",
    "value_state_matrix_no_ace = np.zeros((21,10))"
   ]
  },
  {
   "cell_type": "code",
   "execution_count": 138,
   "metadata": {},
   "outputs": [],
   "source": [
    "#To convert dict in np.matrix\n",
    "results = list(value_function.items())\n",
    "for (player,croupier, true_ace),avg_reward in results: #true_ace 0 is with usable ace tru // 1 is wihtout\n",
    "    row = player - 1\n",
    "    column = croupier - 1\n",
    "    if true_ace == 0: \n",
    "        value_state_matrix_ace[row][column] = avg_reward\n",
    "    else:\n",
    "        value_state_matrix_no_ace[row][column] = avg_reward\n",
    "    "
   ]
  },
  {
   "cell_type": "code",
   "execution_count": 139,
   "metadata": {},
   "outputs": [
    {
     "data": {
      "text/plain": [
       "<function matplotlib.pyplot.show(*args, **kw)>"
      ]
     },
     "execution_count": 139,
     "metadata": {},
     "output_type": "execute_result"
    },
    {
     "data": {
      "image/png": "[encoded data removed]",
      "text/plain": [
       "<Figure size 1440x600 with 2 Axes>"
      ]
     },
     "metadata": {},
     "output_type": "display_data"
    }
   ],
   "source": [
    "plt.figure(figsize=(12,5),dpi=120);\n",
    "plt.title(\"Optimal Value function for Usable Ace\")\n",
    "plt.ylabel(\"Player's Hand (sum)\"); plt.xlabel(\"Dealer's Card\")\n",
    "plt.imshow(X=value_state_matrix_ace[:][:],cmap='jet', origin='lower',vmin=-1, vmax=1)\n",
    "plt.xticks( np.arange(10),[1,2,3,4,5,6,7,8,9,10])\n",
    "plt.yticks( np.arange(1,21), np.linspace(num=20, start= 2, stop= 21))\n",
    "plt.colorbar()\n",
    "plt.show"
   ]
  },
  {
   "cell_type": "code",
   "execution_count": 141,
   "metadata": {},
   "outputs": [
    {
     "data": {
      "text/plain": [
       "<function matplotlib.pyplot.show(*args, **kw)>"
      ]
     },
     "execution_count": 141,
     "metadata": {},
     "output_type": "execute_result"
    },
    {
     "data": {
      "image/png": "[encoded data removed]",
      "text/plain": [
       "<Figure size 1440x600 with 2 Axes>"
      ]
     },
     "metadata": {},
     "output_type": "display_data"
    }
   ],
   "source": [
    "plt.figure(figsize=(12,5),dpi=120);\n",
    "plt.title(\"Optimal Value function for Not Usable Ace\")\n",
    "plt.ylabel(\"Player's Hand (sum)\"); plt.xlabel(\"Dealer's Card\")\n",
    "plt.imshow(X=value_state_matrix_no_ace[:][:],cmap='jet', origin='lower',vmin=-1, vmax=1)\n",
    "plt.xticks( np.arange(10),[1,2,3,4,5,6,7,8,9,10])\n",
    "plt.yticks( np.arange(1,21), np.linspace(num=20, start= 2, stop= 21))\n",
    "plt.colorbar()\n",
    "plt.show"
   ]
  },
  {
   "cell_type": "code",
   "execution_count": 142,
   "metadata": {},
   "outputs": [],
   "source": [
    "action_state_matrix_ace = np.zeros((2,21,10)) #first number is the 3 dimension. In this case is for reward the action (step or hit)\n",
    "action_state_matrix_no_ace = np.zeros((2,21,10))\n",
    "#To convert dict in np.matrix\n",
    "results = list(action_value.items())\n",
    "for ((player,croupier, true_ace),action), avg_reward in results: #true_ace 0 is with usable ace tru // 1 is wihtout\n",
    "    row = player - 1\n",
    "    column = croupier - 1\n",
    "    action = action - 1 #index 0 is hit, index 1 is stick\n",
    "    if true_ace == 0: \n",
    "        action_state_matrix_ace[action][row][column] = avg_reward\n",
    "    else:\n",
    "        action_state_matrix_no_ace[action][row][column] = avg_reward"
   ]
  },
  {
   "cell_type": "code",
   "execution_count": 143,
   "metadata": {},
   "outputs": [
    {
     "data": {
      "image/png": "[encoded data removed]",
      "text/plain": [
       "<Figure size 1440x600 with 1 Axes>"
      ]
     },
     "metadata": {},
     "output_type": "display_data"
    },
    {
     "name": "stdout",
     "output_type": "stream",
     "text": [
      "Black: Hit\n",
      "White: Stick\n"
     ]
    }
   ],
   "source": [
    "policy = np.zeros((21,11))\n",
    "for ps in range(21):\n",
    "    for dc in range(10):\n",
    "        policy[ps,dc] = np.argmax(action_state_matrix_ace[:,ps,dc])\n",
    "\n",
    "plt.figure(figsize=(12,5),dpi=120);\n",
    "plt.title(\"Optimal Policy with Usable Ace\")\n",
    "plt.ylabel(\"Player's  Hand (Sum)\"); plt.xlabel(\"Dealer's Card\")\n",
    "plt.xticks( np.arange(10),[1,2,3,4,5,6,7,8,9,10])\n",
    "plt.yticks( np.arange(1,21), np.linspace(num=20, start= 2, stop= 21))\n",
    "plt.xlim(-0.5,9.5)\n",
    "plt.imshow(policy,cmap='gray')\n",
    "plt.show()\n",
    "print('Black: Hit\\nWhite: Stick')"
   ]
  },
  {
   "cell_type": "code",
   "execution_count": 224,
   "metadata": {},
   "outputs": [
    {
     "data": {
      "image/png": "[encoded data removed]",
      "text/plain": [
       "<Figure size 1440x600 with 1 Axes>"
      ]
     },
     "metadata": {},
     "output_type": "display_data"
    },
    {
     "name": "stdout",
     "output_type": "stream",
     "text": [
      "Black: Hit\n",
      "White: Stick\n"
     ]
    }
   ],
   "source": [
    "policy = np.zeros((21,11))\n",
    "for ps in range(21):\n",
    "    for dc in range(10):\n",
    "        policy[ps,dc] = np.argmax(action_state_matrix_no_ace[:,ps,dc])\n",
    "\n",
    "plt.figure(figsize=(12,5),dpi=120);\n",
    "plt.title(\"Optimal Policy with Not Usable Ace\")\n",
    "plt.ylabel(\"Player's  Hand (Sum)\"); plt.xlabel(\"Dealer's Card\")\n",
    "plt.xticks( np.arange(10),[1,2,3,4,5,6,7,8,9,10])\n",
    "plt.yticks( np.arange(1,21), np.linspace(num=20, start= 2, stop= 21))\n",
    "plt.imshow(policy,cmap='gray')\n",
    "plt.xlim(-0.5,9.5)\n",
    "plt.show()\n",
    "print('Black: Hit\\nWhite: Stick')"
   ]
  },
  {
   "cell_type": "markdown",
   "metadata": {},
   "source": [
    "## 4\n",
    "\n",
    "### [10 points] Discuss your findings\n",
    "\n",
    "Compare the performance of your human control policy, the naive policy from question 2, and the optimal control policy in question 3. \n",
    "**(a)** Which performs best? Why is this the case? \n",
    "**(b)** Could you have created a better policy if you knew the full Markov Decision Process for this environment? Why or why not?"
   ]
  },
  {
   "cell_type": "markdown",
   "metadata": {},
   "source": [
    "**ANSWER**"
   ]
  },
  {
   "cell_type": "markdown",
   "metadata": {},
   "source": [
    "#### a)\n",
    "When we compare the three policies (the human control policy, naive policy, and the optimal control policy) we could observe that the one that performed the best is the monte carlo control policy. The human policy resulted in a overall average reward of -0.40. The naive policy resulted in a overall average reward of **XXXX**. The optimal monte carlo control policy  with 300000 permutations resulted in a overall average reward of -0.163, much greater than any of the other policies.\n",
    "The optimal control policy had the greatest average reward as consequence of the several iterations of evaluating and improving the policy. The final updated policy is the one that maximize the reward gor each possible state.\n",
    "\n",
    "The human policy could have been more succesfull than the naive policy with more trails. In a sense the human policy is sensible to learning, trying to 'realize' what is the best policy. The naive policy reached a 'steady value' given certain amount of trials. In this way, we could think that the naive policy reached the optimal value state for the particular policy of Hitting is the value was below 20."
   ]
  },
  {
   "cell_type": "markdown",
   "metadata": {},
   "source": [
    "#### (b)\n",
    "The answers to this question would depend on the amount of time (or number of iterations) to improve my policy. With an infinite amout of time both Monte Carlo optimal control policy would converge to the optimal policy (being this the same if we knew the full MDP), but if we do not hava an infite time the MDP would result in a better policy.   "
   ]
  },
  {
   "cell_type": "code",
   "execution_count": 290,
   "metadata": {},
   "outputs": [
    {
     "data": {
      "text/plain": [
       "<matplotlib.colorbar.Colorbar at 0x1a340c15908>"
      ]
     },
     "execution_count": 290,
     "metadata": {},
     "output_type": "execute_result"
    },
    {
     "data": {
      "image/png": "[encoded data removed]",
      "text/plain": [
       "<Figure size 432x288 with 2 Axes>"
      ]
     },
     "metadata": {},
     "output_type": "display_data"
    }
   ],
   "source": [
    "def play_blackjack2():\n",
    "    game = Blackjack()\n",
    "    states = []\n",
    "    actions = []\n",
    "    state = game.deal()\n",
    "    while True:\n",
    "        states.append(state)\n",
    "        if state[0] <= 19:\n",
    "            action = 1\n",
    "        else: \n",
    "            action = 2\n",
    "        actions.append(action)\n",
    "        (player, croupier, usable_ace),reward,end_game = game.step(action)\n",
    "        state = (player, croupier, usable_ace)\n",
    "        if end_game:\n",
    "            break\n",
    "    return states, reward , actions"
   ]
  },
  {
   "cell_type": "code",
   "execution_count": 293,
   "metadata": {},
   "outputs": [
    {
     "data": {
      "text/plain": [
       "(17, 8, False)"
      ]
     },
     "execution_count": 293,
     "metadata": {},
     "output_type": "execute_result"
    }
   ],
   "source": [
    "game.deal()"
   ]
  },
  {
   "cell_type": "code",
   "execution_count": null,
   "metadata": {},
   "outputs": [],
   "source": []
  },
  {
   "cell_type": "code",
   "execution_count": null,
   "metadata": {},
   "outputs": [],
   "source": []
  }
 ],
 "metadata": {
  "kernelspec": {
   "display_name": "Python 3",
   "language": "python",
   "name": "python3"
  },
  "language_info": {
   "codemirror_mode": {
    "name": "ipython",
    "version": 3
   },
   "file_extension": ".py",
   "mimetype": "text/x-python",
   "name": "python",
   "nbconvert_exporter": "python",
   "pygments_lexer": "ipython3",
   "version": "3.6.5"
  },
  "varInspector": {
   "cols": {
    "lenName": 16,
    "lenType": 16,
    "lenVar": 40
   },
   "kernels_config": {
    "python": {
     "delete_cmd_postfix": "",
     "delete_cmd_prefix": "del ",
     "library": "var_list.py",
     "varRefreshCmd": "print(var_dic_list())"
    },
    "r": {
     "delete_cmd_postfix": ") ",
     "delete_cmd_prefix": "rm(",
     "library": "var_list.r",
     "varRefreshCmd": "cat(var_dic_list()) "
    }
   },
   "types_to_exclude": [
    "module",
    "function",
    "builtin_function_or_method",
    "instance",
    "_Feature"
   ],
   "window_display": false
  }
 },
 "nbformat": 4,
 "nbformat_minor": 2
}
