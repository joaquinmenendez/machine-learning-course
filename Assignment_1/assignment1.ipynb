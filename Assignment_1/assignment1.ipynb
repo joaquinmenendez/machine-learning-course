{
 "cells": [
  {
   "cell_type": "markdown",
   "metadata": {},
   "source": [
    "# Assignment 1 - Probability, Linear Algebra, Programming, and Git\n",
    "\n",
    "## *Joaquin Menendez*\n",
    "Netid:  *jm622*"
   ]
  },
  {
   "cell_type": "markdown",
   "metadata": {},
   "source": [
    "# Probability and Statistics Theory"
   ]
  },
  {
   "cell_type": "markdown",
   "metadata": {},
   "source": [
    "## 1\n",
    "Let $f(x) = \\begin{cases}\n",
    "                0           & x < 0  \\\\\n",
    "                \\alpha x^2  & 0 \\leq x \\leq 2 \\\\\n",
    "                0           & 2 < x\n",
    "            \\end{cases}$\n",
    "            \n",
    "For what value of $\\alpha$ is $f(x)$ a valid probability density function?\n",
    "\n",
    "*Note: for all assignments, write out all equations and math for all assignments using markdown and [LaTeX](https://tobi.oetiker.ch/lshort/lshort.pdf) and show all work*"
   ]
  },
  {
   "cell_type": "markdown",
   "metadata": {},
   "source": [
    "**ANSWER**\n",
    "\n"
   ]
  },
  {
   "cell_type": "markdown",
   "metadata": {},
   "source": [
    "$\\int_{0}^{2} ax^2 dx = \\dfrac{ax^3}{3}= 1$ <br>\n",
    "$\\dfrac{a2^3}{3} - \\dfrac{a0^3}{3} = 1$ <br>\n",
    "$\\dfrac{a2^3}{3} = 1$ <br>\n",
    "$\\dfrac{a8}{3} = 1$ <br>\n",
    "$a = \\dfrac{3}{8}$  <br>\n",
    "\n",
    "A valid probability funciton  for $f$ is going to given by a value of $\\alpha$ equal to 3/8 "
   ]
  },
  {
   "cell_type": "markdown",
   "metadata": {},
   "source": [
    "## 2\n",
    "What is the cumulative distribution function (CDF) that corresponds to the following probability distribution function? Please state the value of the CDF for all possible values of $x$.\n",
    "\n",
    "$f(x) = \\begin{cases}\n",
    "    \\frac{1}{3} & 0 < x < 3 \\\\\n",
    "    0           & \\text{otherwise}\n",
    "    \\end{cases}$"
   ]
  },
  {
   "cell_type": "markdown",
   "metadata": {},
   "source": [
    "**ANSWER**\n",
    "\n",
    "So, if we want to calculate the CDF for a value $i$ of an uniform distribution we could say:<br>\n",
    "$\\Omega - (X_i \\cdot \\kappa) =$ CDF complement (from the right)<br>\n",
    "$ 1 - (X_i \\cdot \\dfrac{1}{3}) = $CDF complement (from the right)<br>\n",
    "$\\dfrac{X_i}{3} = CDF$\n",
    "\n",
    "$f(x) = \\begin{cases}\n",
    "    0           & x < 0 \\\\\n",
    "    \\frac{1}{3}x & 0 \\leqslant x < 3 \\\\\n",
    "    1           &  x \\geqslant 3\n",
    "    \\end{cases}$\n"
   ]
  },
  {
   "cell_type": "markdown",
   "metadata": {},
   "source": [
    "## 3\n",
    "For the probability distribution function for the random variable $X$,\n",
    "\n",
    "$f(x) = \\begin{cases}\n",
    "    \\frac{1}{3} & 0 < x < 3 \\\\\n",
    "    0           & \\text{otherwise}\n",
    "    \\end{cases}$\n",
    "    \n",
    "what is the (a) expected value and (b) variance of $X$. *Show all work*."
   ]
  },
  {
   "cell_type": "markdown",
   "metadata": {},
   "source": [
    "**ANSWER**\n",
    "\n",
    "The probability density function is 1\n",
    "\n",
    "(a) Expected value:\n",
    "\n",
    "$ E(X) = \\int_a^b x\\:f(x)\\:dx$ where $f$(x) refers to the PDF <br>\n",
    "$\\int_0^3 x\\dfrac{1}{3}\\:dx=$ <br>\n",
    "$\\dfrac{1}{3} \\int_0^3 x\\:dx=$ <br>\n",
    "$\\dfrac{1}{3} \\int_0^3 \\dfrac{1}{2}x^2=$<br>\n",
    "$\\dfrac{1}{3} \\cdot (\\dfrac{1}{2}3^2 - 0)=$<br>\n",
    "$\\dfrac{1}{3} \\cdot (\\dfrac{1}{2}3^2 - 0)= \\dfrac{3}{2}$<br>\n",
    "\n",
    "(b) Variance: <br>\n",
    "$Var(X) = E[X^2] - E[X]^2$ , so using the theorem used above: <br>\n",
    "=    $\\int_0^3 \\dfrac{1}{3}x^2\\:dx - (\\int_0^3 \\dfrac{1}{3}x)^2 $ <br>\n",
    "= $\\dfrac{1}{3} \\int_0^3 x^2\\:dx - (\\dfrac{1}{3} \\int_0^3 x)^2 $ <br>\n",
    "= $\\dfrac{1}{3} \\cdot \\dfrac{1}{3}3^3 - (\\dfrac{1}{3} \\cdot (\\dfrac{1}{2}3^2)^2$ <br>\n",
    "= $3 - (\\dfrac{3}{3})^2 $  <br>\n",
    "= $3 - \\dfrac{9}{4} $  <br>\n",
    "= $0.75$\n"
   ]
  },
  {
   "cell_type": "markdown",
   "metadata": {},
   "source": [
    "## 4\n",
    "Consider the following table of data that provides the values of a discrete data vector $\\mathbf{x}$ of samples from the random variable $X$, where each entry in $\\mathbf{x}$ is given as $x_i$.\n",
    "\n",
    "*Table 1. Dataset N=5 observations*\n",
    "\n",
    "|-| $x_0$ | $x_1$ | $x_2$ | $x_3$ | $x_4$ |\n",
    "|------  |-------|-------|-------|-------|-------|\n",
    "|$\\textbf{x}$| 2     | 3     | 10    | -1    | -1    |\n",
    "\n",
    "What is the (a) mean, (b) variance, and the  of the data? \n",
    "\n",
    "*Show all work. Your answer should include the definition of mean, median, and variance in the context of discrete data.*"
   ]
  },
  {
   "cell_type": "markdown",
   "metadata": {},
   "source": [
    "**ANSWER**\n",
    "\n",
    "(a) Mean\n",
    "\n",
    "$\\bar X = \\dfrac{\\displaystyle\\sum_{i=0}^{n} x_i}{n} $\n",
    "\n",
    "$\\bar X= \\dfrac{13}{5} = 2.6$\n",
    "\n",
    "\n",
    "\n",
    "(b) Variance\n",
    "\n",
    "$\\sigma^2 = \\dfrac{\\displaystyle\\sum_{i=1}^{n}(x_i - \\bar X)^2} {n}$\n",
    "\n",
    "$\\sigma^2 = \\dfrac{\\displaystyle\\sum_{i=1}^{n=5}(x_i - 2.6)^2} {5}$\n"
   ]
  },
  {
   "cell_type": "code",
   "execution_count": 6,
   "metadata": {},
   "outputs": [
    {
     "name": "stdout",
     "output_type": "stream",
     "text": [
      "var = 16.240000\n"
     ]
    }
   ],
   "source": [
    "a = np.array([2,3,10,-1,-1])\n",
    "print('var = %f' %np.var(a))"
   ]
  },
  {
   "cell_type": "markdown",
   "metadata": {},
   "source": [
    "The median is the value separating the higher half from the lower half of the data distribution. If we work with discrete distributions we can find the median by arranging all the numbers from smallest to greatest and picking the value on the exact middle, as long as the number of elements on the distribution is odd. In case of having even elements, the two number closest to the half will be summed and divided by two."
   ]
  },
  {
   "cell_type": "markdown",
   "metadata": {},
   "source": [
    "\n",
    "\n",
    "## 5\n",
    "Review of counting from probability theory. \n",
    "\n",
    "(a) How many different 7-place license plates are possible if the first 3 places only contain letters and the last 4 only contain numbers?\n",
    "\n",
    "(b) How many different batting orders are possible for a baseball team with 9 players?\n",
    "\n",
    "(c) How many batting orders of 5 players are possible for a team with 9 players total?\n",
    "\n",
    "(d) Let's assume this class has 26 students and we want to form project teams. How many unique teams of 3 are possible?\n",
    "\n",
    "*Hint: For each problem, determine if order matters, and if it should be calculated with or without replacement.*"
   ]
  },
  {
   "cell_type": "markdown",
   "metadata": {},
   "source": [
    "**ANSWER**\n",
    "\n",
    "(a)\n",
    "Order not matter, the only important thing is the number of different plates.\n",
    "\n",
    "| Position | 1 | 2 | 3 | 4 | 5 | 6 | 7 |\n",
    "|--------|-|-|-|-|-|-|-|\n",
    "|Possible N|26|26|26|10|10|10|10|\n",
    "\n",
    "$26*26*26*10*10*10*10 = 26^3 * 10^4 = 175760000$\n",
    "\n",
    "(b)\n",
    "The order is important in this case.\n",
    "In the first position I have nine possible names, after I select one player I have eight possible names for the second position and so on. <br> \n",
    "$9*8*7*6*5*4*3*2*1 =  9!$\n",
    "$9! = 362880$\n",
    "\n",
    "\n",
    "(c)\n",
    "Order matters. \n",
    "I have only 5 positions to 9 players. So I have 9 possibilities to choose the first name, and so on until reach the 5th position.\n",
    "$\\dfrac{n!}{k!}$ where $n$ is my number of players and $k$ are the available positions\n",
    "${9! - 5!} = 9*8*7*6 = 3024 $\n",
    "\n",
    "\n",
    "(d)\n",
    "In this case the order of the teams does not seem to be important. This is a combinatory problem that seems to follow an $C_{n,k}= \\dfrac{n!}{k! * (n - k)!}$<br>\n",
    "$ C_{26,3} = \\dfrac{26!}{3!(26 - 3)!}$\n",
    "\n",
    "\n",
    "**Hint: For each problem, determine if order matters, and if it should be calculated with or without replacement.**"
   ]
  },
  {
   "cell_type": "code",
   "execution_count": 56,
   "metadata": {},
   "outputs": [
    {
     "name": "stdout",
     "output_type": "stream",
     "text": [
      "a :  175760000\n",
      "b :  362880\n",
      "c :  3024\n",
      "d :  2600.0\n"
     ]
    }
   ],
   "source": [
    "print ('a : ',26**3 * 10**4)\n",
    "print ('b : ',np.math.factorial(9))\n",
    "print ('c : ',9*8*7*6)\n",
    "print ('d : ',np.math.factorial(26)/(np.math.factorial(3)*np.math.factorial(23)))"
   ]
  },
  {
   "cell_type": "markdown",
   "metadata": {},
   "source": [
    "# Linear Algebra"
   ]
  },
  {
   "cell_type": "markdown",
   "metadata": {},
   "source": [
    "## 6\n",
    "**Matrix manipulations and multiplication**. Machine learning involves working with many matrices, so this exercise will provide you with the opportunity to practice those skills.\n",
    "\n",
    "Let\n",
    "$\\mathbf{A} =  \\begin{bmatrix}\n",
    "1 & 2 & 3 \\\\\n",
    "2 & 4 & 5 \\\\\n",
    "3 & 5 & 6 \n",
    "\\end{bmatrix}$, $\\mathbf{b} =  \\begin{bmatrix}\n",
    "-1  \\\\\n",
    "3  \\\\\n",
    "8  \n",
    "\\end{bmatrix}$, $\\mathbf{c} =  \\begin{bmatrix}\n",
    "4  \\\\\n",
    "-3  \\\\\n",
    "6  \n",
    "\\end{bmatrix}$, and $\\mathbf{I} =  \\begin{bmatrix}\n",
    "1 & 0 & 0 \\\\\n",
    "0 & 1 & 0 \\\\\n",
    "0 & 0 & 1 \n",
    "\\end{bmatrix}$\n",
    "\n",
    "Compute the following or indicate that it cannot be computed:\n",
    "\n",
    "1. $\\mathbf{A}\\mathbf{A}$\n",
    "2. $\\mathbf{A}\\mathbf{A}^T$\n",
    "3. $\\mathbf{A}\\mathbf{b}$\n",
    "4. $\\mathbf{A}\\mathbf{b}^T$\n",
    "5. $\\mathbf{b}\\mathbf{A}$\n",
    "6. $\\mathbf{b}^T\\mathbf{A}$\n",
    "7. $\\mathbf{b}\\mathbf{b}$\n",
    "8. $\\mathbf{b}^T\\mathbf{b}$\n",
    "9. $\\mathbf{b}\\mathbf{b}^T$\n",
    "10. $\\mathbf{b} + \\mathbf{c}^T$\n",
    "11. $\\mathbf{b}^T\\mathbf{b}^T$\n",
    "12. $\\mathbf{A}^{-1}\\mathbf{b}$\n",
    "13. $\\mathbf{A}\\circ\\mathbf{A}$\n",
    "14. $\\mathbf{b}\\circ\\mathbf{c}$\n",
    "\n",
    "*Note: The element-wise (or Hadamard) product is the product of each element in one matrix with the corresponding element in another matrix, and is represented by the symbol \"$\\circ$\".*"
   ]
  },
  {
   "cell_type": "markdown",
   "metadata": {},
   "source": [
    "**ANSWER**\n",
    "\n"
   ]
  },
  {
   "cell_type": "code",
   "execution_count": 57,
   "metadata": {},
   "outputs": [
    {
     "name": "stdout",
     "output_type": "stream",
     "text": [
      "AA = \n",
      " [[14 25 31]\n",
      " [25 45 56]\n",
      " [31 56 70]]\n"
     ]
    }
   ],
   "source": [
    "A = np.matrix([(1,2,3),\n",
    "               (2,4,5),\n",
    "               (3,5,6)])\n",
    "\n",
    "I = np.matrix([(1,0,0),\n",
    "               (0,1,0),\n",
    "               (0,0,1)])\n",
    "\n",
    "b = np.array([-1,3,8]) \n",
    "\n",
    "c = np.array([4,-3,6])\n",
    "\n",
    "# 1)\n",
    "print('AA = \\n', A*A)\n"
   ]
  },
  {
   "cell_type": "code",
   "execution_count": 58,
   "metadata": {},
   "outputs": [
    {
     "name": "stdout",
     "output_type": "stream",
     "text": [
      "AAt = \n",
      " [[14 25 31]\n",
      " [25 45 56]\n",
      " [31 56 70]]\n"
     ]
    }
   ],
   "source": [
    "# 2)\n",
    "print('AAt = \\n', A*A.T) #The result is going to be tha same given the A matrix in symmetrical"
   ]
  },
  {
   "cell_type": "code",
   "execution_count": 59,
   "metadata": {},
   "outputs": [
    {
     "name": "stdout",
     "output_type": "stream",
     "text": [
      "Ab = \n",
      " [[29 50 60]]\n",
      "or \n",
      "\n"
     ]
    },
    {
     "data": {
      "text/plain": [
       "matrix([[29],\n",
       "        [50],\n",
       "        [60]])"
      ]
     },
     "execution_count": 59,
     "metadata": {},
     "output_type": "execute_result"
    }
   ],
   "source": [
    "# 3)\n",
    "print('Ab = \\n', A.dot(b)) #is not going to be possible to multiplicate A*b given numpy assumes that b is an row vector despite is notated as a column vector. \n",
    "# In other words a 3x3 * 1x3 is not a valid operation, but in reality we are multiplicating a 3x3 * 3x1. To multiply in this case we need to use the .dot function or transform b into a matrix \n",
    "\n",
    "print('or \\n')\n",
    "b = np.matrix([-1,3,8]) \n",
    "b=b.T #in order to make this matrix in a column vector\n",
    "A*b"
   ]
  },
  {
   "cell_type": "markdown",
   "metadata": {},
   "source": [
    "4) If we consider the vector swapping from column vector to a row vector given the transposition, we are not going to be able to multiply $Ab^t$ (3x3 * 1x3)\n"
   ]
  },
  {
   "cell_type": "markdown",
   "metadata": {},
   "source": [
    "5) If we consider the vector as a column vector, we are not going to be able to multiply $bA$.  (3x1 * 3x3)"
   ]
  },
  {
   "cell_type": "markdown",
   "metadata": {},
   "source": [
    "6) If we consider the vector swapping from column vector to a row vector given the transposition, we can multiply $b^tA$ (1x3 * 3x3) <br>\n",
    "$b^tA = [29, 50, 60]$"
   ]
  },
  {
   "cell_type": "markdown",
   "metadata": {},
   "source": [
    "7) $bb$ is not possible tu multiply given that is a 3 x1* 3x1 operation"
   ]
  },
  {
   "cell_type": "code",
   "execution_count": 60,
   "metadata": {},
   "outputs": [
    {
     "name": "stdout",
     "output_type": "stream",
     "text": [
      "bb = \n",
      " [[74]]\n"
     ]
    }
   ],
   "source": [
    "# 8) bt.b Is possible. 1x3 * 3x1\n",
    "print('bb = \\n', b.T*b)"
   ]
  },
  {
   "cell_type": "code",
   "execution_count": 61,
   "metadata": {},
   "outputs": [
    {
     "name": "stdout",
     "output_type": "stream",
     "text": [
      "bbt = \n",
      " [[ 1 -3 -8]\n",
      " [-3  9 24]\n",
      " [-8 24 64]]\n"
     ]
    }
   ],
   "source": [
    "# 9) b.bt is possile. 3x1 * 1x3\n",
    "print('bbt = \\n', b*b.T)"
   ]
  },
  {
   "cell_type": "code",
   "execution_count": 62,
   "metadata": {},
   "outputs": [
    {
     "data": {
      "text/plain": [
       "array([ 3,  0, 14])"
      ]
     },
     "execution_count": 62,
     "metadata": {},
     "output_type": "execute_result"
    }
   ],
   "source": [
    "#10) b + ct. In the sum the orientation of vectors is not important  \n",
    "b =  np.array([-1,3,8]) \n",
    "b + c"
   ]
  },
  {
   "cell_type": "markdown",
   "metadata": {},
   "source": [
    "11) $b_tb_t$ is not going to be possible $(1x3 * 1x3)$"
   ]
  },
  {
   "cell_type": "code",
   "execution_count": 63,
   "metadata": {},
   "outputs": [
    {
     "data": {
      "text/plain": [
       "matrix([[ 6.],\n",
       "        [ 4.],\n",
       "        [-5.]])"
      ]
     },
     "execution_count": 63,
     "metadata": {},
     "output_type": "execute_result"
    }
   ],
   "source": [
    "# 12) A-1 . b\n",
    "b = np.matrix([-1,3,8]) \n",
    "b=b.T #in order to make this matrix in a column vector\n",
    "from scipy import linalg\n",
    "linalg.inv(A)* b"
   ]
  },
  {
   "cell_type": "code",
   "execution_count": 64,
   "metadata": {},
   "outputs": [
    {
     "data": {
      "text/plain": [
       "matrix([[ 1,  4,  9],\n",
       "        [ 4, 16, 25],\n",
       "        [ 9, 25, 36]])"
      ]
     },
     "execution_count": 64,
     "metadata": {},
     "output_type": "execute_result"
    }
   ],
   "source": [
    "# 13) A * A\n",
    "np.multiply(A,A)"
   ]
  },
  {
   "cell_type": "code",
   "execution_count": 65,
   "metadata": {},
   "outputs": [
    {
     "data": {
      "text/plain": [
       "array([-4, -9, 48])"
      ]
     },
     "execution_count": 65,
     "metadata": {},
     "output_type": "execute_result"
    }
   ],
   "source": [
    "# 14) b * c\n",
    "b = np.array([-1,3,8]) \n",
    "np.multiply(b,c)\n"
   ]
  },
  {
   "cell_type": "markdown",
   "metadata": {},
   "source": [
    "## 6\n",
    "**Eigenvectors and eigenvalues**. Eigenvectors and eigenvalues are useful for some machine learning algorithms, but the concepts take time to solidly grasp. For an intuitive review of these concepts, explore this [interactive website at Setosa.io](http://setosa.io/ev/eigenvectors-and-eigenvalues/). Also, the series of linear algebra videos by Grant Sanderson of 3Brown1Blue are excellent and can be viewed on youtube [here](https://www.youtube.com/playlist?list=PLZHQObOWTQDPD3MizzM2xVFitgF8hE_ab).\n",
    "\n",
    "1. Calculate the eigenvalues and corresponding eigenvectors of matrix $\\mathbf{A}$ above, from the last question.\n",
    "2. Choose one of the eigenvector/eigenvalue pairs, $\\mathbf{v}$ and $\\lambda$, and show that $\\mathbf{A} \\mathbf{v} = \\lambda \\mathbf{v}$. Also show that this relationship extends to higher orders: $\\mathbf{A} \\mathbf{A} \\mathbf{v} = \\lambda^2 \\mathbf{v}$\n",
    "3. Show that the eigenvectors are orthogonal to one another (e.g. their inner product is zero). This is true for real, symmetric matrices."
   ]
  },
  {
   "cell_type": "markdown",
   "metadata": {},
   "source": [
    "**ANSWER**\n",
    "\n",
    "1)\n",
    "First step find eigenvalues of the A matrix.\n",
    "\n",
    "[x] A should be square \n"
   ]
  },
  {
   "cell_type": "code",
   "execution_count": 66,
   "metadata": {},
   "outputs": [
    {
     "name": "stdout",
     "output_type": "stream",
     "text": [
      "(array([11.34481428, -0.51572947,  0.17091519]), matrix([[-0.32798528, -0.73697623,  0.59100905],\n",
      "        [-0.59100905, -0.32798528, -0.73697623],\n",
      "        [-0.73697623,  0.59100905,  0.32798528]]))\n"
     ]
    }
   ],
   "source": [
    "print(np.linalg.eig(A))\n",
    "w,v = np.linalg.eig(A)\n",
    "v = v.T #trasposition makes easier the indexing"
   ]
  },
  {
   "cell_type": "markdown",
   "metadata": {},
   "source": [
    "2)"
   ]
  },
  {
   "cell_type": "code",
   "execution_count": 67,
   "metadata": {},
   "outputs": [],
   "source": [
    "eval0 = w[0]\n",
    "evec0 = v[0]\n",
    "\n",
    "eval1 = w[1]\n",
    "evec1 = v[1]\n",
    "\n",
    "eval2 = w[2]\n",
    "evec2 = v[2]"
   ]
  },
  {
   "cell_type": "code",
   "execution_count": 68,
   "metadata": {},
   "outputs": [
    {
     "data": {
      "text/plain": [
       "matrix([[-3.72093206],\n",
       "        [-6.70488789],\n",
       "        [-8.36085845]])"
      ]
     },
     "execution_count": 68,
     "metadata": {},
     "output_type": "execute_result"
    }
   ],
   "source": [
    "A*evec0.T"
   ]
  },
  {
   "cell_type": "code",
   "execution_count": 69,
   "metadata": {},
   "outputs": [
    {
     "data": {
      "text/plain": [
       "matrix([[-3.72093206],\n",
       "        [-6.70488789],\n",
       "        [-8.36085845]])"
      ]
     },
     "execution_count": 69,
     "metadata": {},
     "output_type": "execute_result"
    }
   ],
   "source": [
    "eval0*evec0.T"
   ]
  },
  {
   "cell_type": "code",
   "execution_count": 70,
   "metadata": {},
   "outputs": [
    {
     "data": {
      "text/plain": [
       "True"
      ]
     },
     "execution_count": 70,
     "metadata": {},
     "output_type": "execute_result"
    }
   ],
   "source": [
    "np.allclose(A*evec0.T, eval0*evec0.T) # Comparing arrays element-wise in numpy is weird. \n",
    "                                      # Despite that is obvious that the values are the same the comparision operator == returned false an all values"
   ]
  },
  {
   "cell_type": "markdown",
   "metadata": {},
   "source": [
    "Extending the relationship"
   ]
  },
  {
   "cell_type": "code",
   "execution_count": 71,
   "metadata": {},
   "outputs": [
    {
     "data": {
      "text/plain": [
       "matrix([[-42.2132832 ],\n",
       "        [-76.06570795],\n",
       "        [-94.85238636]])"
      ]
     },
     "execution_count": 71,
     "metadata": {},
     "output_type": "execute_result"
    }
   ],
   "source": [
    "A*A*evec0.T"
   ]
  },
  {
   "cell_type": "code",
   "execution_count": 72,
   "metadata": {},
   "outputs": [
    {
     "data": {
      "text/plain": [
       "matrix([[-42.2132832 ],\n",
       "        [-76.06570795],\n",
       "        [-94.85238636]])"
      ]
     },
     "execution_count": 72,
     "metadata": {},
     "output_type": "execute_result"
    }
   ],
   "source": [
    "(eval0**2)*evec0.T"
   ]
  },
  {
   "cell_type": "code",
   "execution_count": 73,
   "metadata": {},
   "outputs": [
    {
     "data": {
      "text/plain": [
       "True"
      ]
     },
     "execution_count": 73,
     "metadata": {},
     "output_type": "execute_result"
    }
   ],
   "source": [
    "np.allclose(A*A*evec0.T,(eval0**2)*evec0.T)"
   ]
  },
  {
   "cell_type": "markdown",
   "metadata": {},
   "source": [
    "3) Eigenvetors are orthogonal to each other"
   ]
  },
  {
   "cell_type": "code",
   "execution_count": 74,
   "metadata": {},
   "outputs": [
    {
     "name": "stdout",
     "output_type": "stream",
     "text": [
      "eigenvector 1 * eigenvector 2 : -0.0000 \n"
     ]
    }
   ],
   "source": [
    "print('eigenvector 1 * eigenvector 2 : %.4f ' % (evec0 * evec1.T)[0])"
   ]
  },
  {
   "cell_type": "code",
   "execution_count": 75,
   "metadata": {},
   "outputs": [
    {
     "name": "stdout",
     "output_type": "stream",
     "text": [
      "eigenvector 1 * eigenvector 3 : -0.0000 \n"
     ]
    }
   ],
   "source": [
    "print('eigenvector 1 * eigenvector 3 : %.4f ' % (evec0 * evec2.T)[0])"
   ]
  },
  {
   "cell_type": "code",
   "execution_count": 76,
   "metadata": {},
   "outputs": [
    {
     "name": "stdout",
     "output_type": "stream",
     "text": [
      "eigenvector 2 * eigenvector 3 : -0.0000 \n"
     ]
    }
   ],
   "source": [
    "print('eigenvector 2 * eigenvector 3 : %.4f ' % (evec1 * evec2.T)[0])"
   ]
  },
  {
   "cell_type": "markdown",
   "metadata": {},
   "source": [
    "# Numerical Programming"
   ]
  },
  {
   "cell_type": "markdown",
   "metadata": {},
   "source": [
    "## 7\n",
    "Speed comparison between vectorized and non-vectorized code. Begin by creating an array of 10 million random numbers using the numpy random.randn module. Compute the sum of the squares first in a for loop, then using Numpy's `dot` module. Time how long it takes to compute each and report the results and report the output. How many times faster is the vectorized code than the for loop approach?\n",
    "\n",
    "*Note: all code should be well commented, properly formatted, and your answers should be output using the `print()` function as follows (where the # represents your answers, to a reasonable precision):\n",
    "\n",
    "`Time [sec] (non-vectorized): ######`\n",
    "\n",
    "`Time [sec] (vectorized):     ######`\n",
    "\n",
    "`The vectorized code is ##### times faster than the vectorized code`"
   ]
  },
  {
   "cell_type": "markdown",
   "metadata": {},
   "source": [
    "**ANSWER**"
   ]
  },
  {
   "cell_type": "code",
   "execution_count": 39,
   "metadata": {
    "collapsed": true
   },
   "outputs": [
    {
     "name": "stdout",
     "output_type": "stream",
     "text": [
      "Time [sec] (non-vectorized): 5.329760\n",
      "Time [sec] (vectorized): 1.648585\n",
      "The vectorized code is 3.233 times faster than the vectorized code\n"
     ]
    }
   ],
   "source": [
    "import numpy as np\n",
    "import time\n",
    "\n",
    "# Generate the random samples\n",
    "samples = np.random.rand(10**7)\n",
    "\n",
    "# Compute the sum of squares the non-vectorized way (using a for loop)\n",
    "# First I need to calculate the mean. (Ask if they want me to calculate also the mean in a for loop or in a vectorized way)\n",
    "mean = sum(samples)/10**7\n",
    "\n",
    "start = time.time()\n",
    "sumsq_novec = 0\n",
    "for i in samples:\n",
    "    sumsq_novec += (i - mean)**2\n",
    "end = time.time()\n",
    "t_novec =(end - start)\n",
    "\n",
    "\n",
    "\n",
    "# Compute the sum of squares the vectorized way (using numpy)\n",
    "\n",
    "start = time.time()\n",
    "sumsq_vec = sum((samples - mean)**2)\n",
    "end = time.time() \n",
    "t_vec =(end - start)\n",
    "\n",
    "\n",
    "\n",
    "# Print the results\n",
    "print('Time [sec] (non-vectorized): %f' % t_novec)\n",
    "\n",
    "print('Time [sec] (vectorized): %f' % t_vec)\n",
    "\n",
    "print('The vectorized code is '+ str(round(t_novec/t_vec,3)) + ' times faster than the vectorized code')"
   ]
  },
  {
   "cell_type": "markdown",
   "metadata": {},
   "source": [
    "## 8\n",
    "One popular Agile development framework is Scrum (a paradigm recommended for data science projects). It emphasizes the continual evolution of code for projects, becoming progressively better, but starting with a quickly developed minimum viable product. This often means that code written early on is not optimized, and that's a good thing - it's best to get it to work first before optimizing. Imagine that you wrote the following code during a sprint towards getting an end-to-end system working. Vectorize the following code and show the difference in speed between the current implementation and a vectorized version.\n",
    "\n",
    "The function below computes the function $f(x,y) = x^2 - 2 y^2$ and determines whether this quantity is above or below a given threshold, `thresh=0`. This is done for $x,y \\in \\{-4,4\\}$, over a 2,000-by-2,000 grid covering that domain.\n",
    "\n",
    "(a) Vectorize this code and demonstrate (as in the last exercise) the speed increase through vectorization and (b) plot the resulting data - both the function $f(x,y)$ and the thresholded output - using [`imshow`](https://matplotlib.org/api/_as_gen/matplotlib.pyplot.imshow.html?highlight=matplotlib%20pyplot%20imshow#matplotlib.pyplot.imshow) from `matplotlib`.\n",
    "\n",
    "*Hint: look at the `numpy` [`meshgrid`](https://docs.scipy.org/doc/numpy-1.13.0/reference/generated/numpy.meshgrid.html) documentation*"
   ]
  },
  {
   "cell_type": "code",
   "execution_count": 1,
   "metadata": {
    "collapsed": true
   },
   "outputs": [
    {
     "name": "stdout",
     "output_type": "stream",
     "text": [
      "Time [sec] (non-vectorized): 12.442739\n",
      "Time [sec] (vectorized): 0.079786\n",
      "The vectorized code is 155.951 times faster than the vectorized code\n"
     ]
    }
   ],
   "source": [
    "import numpy as np\n",
    "import time\n",
    "import matplotlib.pyplot as plt\n",
    "\n",
    "# Initialize variables for this exerise\n",
    "\n",
    "def f(x,y):\n",
    "    return ((x**2) - (2*y**2))\n",
    "\n",
    "thresh = np.zeros((2000, 2000))  # matrix of zeros for the non-vectorized implementation\n",
    "threshv = np.zeros((2000, 2000)) # matrix of zeros for the vectorized implementation\n",
    "xspace = np.linspace(-4, 4, 2000) #x vector with values from -4,4 \n",
    "yspace = np.linspace(-4, 4, 2000) #y vector with values from -4,4\n",
    "xv,yv = np.meshgrid(xspace,yspace) # A N-D coordinate arrays for vectorized evaluations\n",
    "\n",
    "# Nonvectorized implementation\n",
    "start = time.time()\n",
    "for y in range(0,2000):\n",
    "    for x in range(0,2000):\n",
    "        if f(xspace[x],yspace[y]) > 0:\n",
    "            thresh[x][y] = 1 \n",
    "        elif f(xspace[x],yspace[y]) == 0:\n",
    "            thresh[x][y] = 0\n",
    "        elif f(xspace[x],yspace[y]) < 0:\n",
    "            thresh[x][y] = -1\n",
    "            \n",
    "end = time.time()\n",
    "t_novec = end - start\n",
    "\n",
    "# Vectorized implementation\n",
    "start_v= time.time()\n",
    "values = f(xv,yv)\n",
    "threshv[values > 0] = 1\n",
    "threshv[values == 0] = 0\n",
    "threshv[values < 0] = -1\n",
    "end_v = time.time()\n",
    "t_vec  = end_v - start_v\n",
    "\n",
    "# Print the time for each and the speed increase\n",
    "print('Time [sec] (non-vectorized): %f' % t_novec)\n",
    "\n",
    "print('Time [sec] (vectorized): %f' % t_vec)\n",
    "\n",
    "print('The vectorized code is '+ str(round(t_novec/t_vec,3)) + ' times faster than the vectorized code')\n"
   ]
  },
  {
   "cell_type": "code",
   "execution_count": 2,
   "metadata": {},
   "outputs": [
    {
     "data": {
      "image/png": "[encoded data removed]",
      "text/plain": [
       "<Figure size 432x288 with 1 Axes>"
      ]
     },
     "metadata": {},
     "output_type": "display_data"
    }
   ],
   "source": [
    "# Plot the result\n",
    "plt.title('Function plot')\n",
    "plt.xlabel('X')\n",
    "plt.ylabel('Y')\n",
    "plt.xticks(np.linspace(0,2000,5),['-4','-2','0','2','4'])\n",
    "plt.yticks(np.linspace(0,2000,5),['-4','-2','0','2','4'])\n",
    "val = plt.imshow(values)"
   ]
  },
  {
   "cell_type": "code",
   "execution_count": 3,
   "metadata": {},
   "outputs": [
    {
     "data": {
      "image/png": "[encoded data removed]",
      "text/plain": [
       "<Figure size 432x288 with 1 Axes>"
      ]
     },
     "metadata": {},
     "output_type": "display_data"
    }
   ],
   "source": [
    "plt.title('Threshold plot')\n",
    "plt.xlabel('X')\n",
    "plt.ylabel('Y')\n",
    "plt.xticks(np.linspace(0,2000,5),['-4','-2','0','2','4'])\n",
    "plt.yticks(np.linspace(0,2000,5),['-4','-2','0','2','4'])\n",
    "image = plt.imshow(threshv)\n"
   ]
  },
  {
   "cell_type": "markdown",
   "metadata": {},
   "source": [
    "## 9\n",
    "This exercise will walk through some basic numerical programming exercises.\n",
    "1. Synthesize $n=10^4$ normally distributed data points with mean $\\mu=2$ and a standard deviation of $\\sigma=1$. Call these observations from a random variable $X$, and call the vector of observations that you generate, $\\textbf{x}$.\n",
    "2. Calculate the mean and standard deviation of $\\textbf{x}$ to validate (1) and provide the result to a precision of four significant figures.\n",
    "3. Plot a histogram of the data in $\\textbf{x}$ with 30 bins\n",
    "4. What is the 90th percentile of $\\textbf{x}$? The 90th percentile is the value below which 90% of observations can be found.\n",
    "5. What is the 99th percentile of $\\textbf{x}$?\n",
    "6. Now synthesize $n=10^4$ normally distributed data points with mean $\\mu=0$ and a standard deviation of $\\sigma=3$. Call these observations from a random variable $Y$, and call the vector of observations that you generate, $\\textbf{y}$.\n",
    "7. Plot the histogram of the data in $\\textbf{y}$ on a (new) plot with the histogram of $\\textbf{x}$, so that both histograms can be seen and compared.\n",
    "8. Using the observations from $\\textbf{x}$ and $\\textbf{y}$, estimate $E[XY]$"
   ]
  },
  {
   "cell_type": "markdown",
   "metadata": {},
   "source": [
    "**ANSWER**"
   ]
  },
  {
   "cell_type": "code",
   "execution_count": 13,
   "metadata": {
    "collapsed": true
   },
   "outputs": [
    {
     "name": "stdout",
     "output_type": "stream",
     "text": [
      "Mean: 1.9975\n",
      "SD: 0.9961\n"
     ]
    },
    {
     "data": {
      "image/png": "[encoded data removed]",
      "text/plain": [
       "<Figure size 432x288 with 1 Axes>"
      ]
     },
     "metadata": {},
     "output_type": "display_data"
    },
    {
     "name": "stdout",
     "output_type": "stream",
     "text": [
      "Percentile 90: 3.2826\n",
      "Percentile 99: 4.2644\n"
     ]
    },
    {
     "data": {
      "image/png": "[encoded data removed]",
      "text/plain": [
       "<Figure size 432x288 with 1 Axes>"
      ]
     },
     "metadata": {},
     "output_type": "display_data"
    }
   ],
   "source": [
    "# 1\n",
    "x = np.random.normal(2,1,10**4)\n",
    "# 2\n",
    "print('Mean: %.4f' % x.mean())\n",
    "print('SD: %.4f' % x.std())\n",
    "# 3\n",
    "plt.title('Histogram of x')\n",
    "plt.xlabel('Value')\n",
    "plt.ylabel('Count')\n",
    "plt.hist(x,bins=30,ec='black')\n",
    "plt.show()\n",
    "# 4\n",
    "print('Percentile 90: %.4f'% np.percentile(x,90))\n",
    "# 5\n",
    "print('Percentile 99: %.4f'% np.percentile(x,99))\n",
    "# 6\n",
    "y = np.random.normal(0,3,10**4)\n",
    "# 7\n",
    "plt.title('Histogram of x and y')\n",
    "plt.xlabel('Value')\n",
    "plt.ylabel('Count')\n",
    "plt.hist(x,bins=30,alpha=0.8,label= 'x',ec='black')\n",
    "plt.hist(y,bins=30,alpha=0.3,label= 'y',ec='black')\n",
    "plt.legend(loc='upper right')\n",
    "plt.show()\n",
    "# 8\n"
   ]
  },
  {
   "cell_type": "markdown",
   "metadata": {},
   "source": [
    "9.8) Given that both distributions are independent the Expected value could be calculated as $E|X| * E|Y|$. Given that the expected value of a normal distribution with $\\sigma = 0 $ is $0$. Then $E|XY|$ would be ideally equal to $0$.\n",
    "\n",
    "But, given that the values here are beeing randomly generated we could aproximate to this value as $\\dfrac{1}{1000} =  \\displaystyle\\sum_{i=0}^{n=999} X_i * Y_i$"
   ]
  },
  {
   "cell_type": "markdown",
   "metadata": {},
   "source": [
    "## 10\n",
    "Estimate the integral of the function $f(x)$ on the interval $0\\leq x < 2.5$ assuming we only know the following points from $f$:\n",
    "\n",
    "*Table 1. Dataset containing n=5 observations*\n",
    "\n",
    "| $x_i$ | 0.0 | 0.5 | 1.0 | 1.5 | 2.0 |\n",
    "|-|-|-|-|-|-|\n",
    "| $y_i$ | 6 | 7 | 8 | 4 | 1 |\n"
   ]
  },
  {
   "cell_type": "markdown",
   "metadata": {},
   "source": [
    "**ANSWER**\n",
    "We can use the [Riemann sum aproximation](https://en.wikipedia.org/wiki/Riemann_sum) to solve this problem.\n",
    "We would start from the left and we would try to recreate the area of the function using rectangules using the known points.\n",
    "The interval [a, b] is therefore divided into n subintervals, each of length\n",
    "$\\displaystyle \\Delta x={\\frac {b-a}{n}}$  <br> \n",
    "So in this case $\\displaystyle \\Delta x={\\frac {2.5-0}{5}}= 0.5$  \n",
    "The Riemann sum could be defined as:\n",
    "$\\displaystyle S=\\sum _{i=1}^{n-1}f(x_{i})\\,\\Delta x_{i}$ \n"
   ]
  },
  {
   "cell_type": "code",
   "execution_count": 77,
   "metadata": {},
   "outputs": [
    {
     "name": "stdout",
     "output_type": "stream",
     "text": [
      "The estimate integral of the function f(x) is = 13.0\n"
     ]
    },
    {
     "data": {
      "image/png": "[encoded data removed]",
      "text/plain": [
       "<Figure size 432x288 with 1 Axes>"
      ]
     },
     "metadata": {},
     "output_type": "display_data"
    }
   ],
   "source": [
    "x = (0.0 , 0.5 , 1.0 , 1.5 , 2.0 )\n",
    "y = (6 , 7 , 8 , 4 , 1 )\n",
    "interval = 0.5\n",
    "S = 0\n",
    "for i in range(0,len(x)):\n",
    "    S += y[i]*interval\n",
    "\n",
    "plt.plot(x,y)\n",
    "plt.xlabel('x')\n",
    "plt.ylabel('y')\n",
    "plt.title('f(x)')\n",
    "print ('The estimate integral of the function f(x) is = %.1f' %S)"
   ]
  },
  {
   "cell_type": "markdown",
   "metadata": {},
   "source": [
    "# Version Control via Git"
   ]
  },
  {
   "cell_type": "markdown",
   "metadata": {},
   "source": [
    "## 11\n",
    "Complete the [Atlassian Git tutorial](https://www.atlassian.com/git/tutorials/what-is-version-control), specifically the following sections. Try each concept that's presented. For this tutorial, instead of using BitBucket, use Github. Create a github account here if you don't already have one: https://github.com/\n",
    "1. [What is version control](https://www.atlassian.com/git/tutorials/what-is-version-control)\n",
    "2. [What is Git](https://www.atlassian.com/git/tutorials/what-is-git)\n",
    "3. [Install Git](https://www.atlassian.com/git/tutorials/install-git)\n",
    "4. [Setting up a repository](https://www.atlassian.com/git/tutorials/install-git)\n",
    "5. [Saving changes](https://www.atlassian.com/git/tutorials/saving-changes)\n",
    "6. [Inspecting a repository](https://www.atlassian.com/git/tutorials/inspecting-a-repository)\n",
    "7. [Undoing changes](https://www.atlassian.com/git/tutorials/undoing-changes)\n",
    "8. [Rewriting history](https://www.atlassian.com/git/tutorials/rewriting-history)\n",
    "9. [Syncing](https://www.atlassian.com/git/tutorials/syncing)\n",
    "10. [Making a pull request](https://www.atlassian.com/git/tutorials/making-a-pull-request)\n",
    "11. [Using branches](https://www.atlassian.com/git/tutorials/using-branches)\n",
    "12. [Comparing workflows](https://www.atlassian.com/git/tutorials/comparing-workflows)\n",
    "\n",
    "For your answer, affirm that you either completed the tutorial or have previous experience with all of the concepts above. Do this by typing your name below and selecting the situation that applies from the two options in brackets."
   ]
  },
  {
   "cell_type": "markdown",
   "metadata": {},
   "source": [
    "**ANSWER**\n",
    "\n",
    "*I, Joaquin Menendez, affirm that I have completed the above tutorial*"
   ]
  },
  {
   "cell_type": "markdown",
   "metadata": {},
   "source": [
    "## 12\n",
    "Using Github to create a static HTML website:\n",
    "1. Create a branch in your `machine-learning-course` repo called \"gh-pages\" and checkout that branch (this will provide an example of how to create a simple static website using [Github Pages](https://pages.github.com/))\n",
    "2. Create a file called \"index.html\" with the contents \"Hello World\" and add, commit, and push it to that branch.\n",
    "3. Submit the following: (a) a link to your github repository and (b) a link to your new \"Hello World\" website. The latter should be at the address https://[USERNAME].github.io/ECE590-assignment0 (where [USERNAME] is your github username)."
   ]
  },
  {
   "cell_type": "markdown",
   "metadata": {},
   "source": [
    "**ANSWER**\n",
    "\n",
    "['Hello World' Webpage](https://joaquinmenendez.github.io/ECE590-assignment0/)\n",
    "\n",
    "[Github repository of the web page](https://github.com/joaquinmenendez/joaquinmenendez.github.io)\n",
    "\n",
    "[machine-learning-course Github repository](https://github.com/joaquinmenendez/machine-learning-course)"
   ]
  },
  {
   "cell_type": "markdown",
   "metadata": {},
   "source": [
    "# Exploratory Data Analysis\n",
    "## 13\n",
    "Here you'll bring together some of the individual skills that you demonstrated above and create a Jupyter notebook based blog post on data analysis.\n",
    "\n",
    "1. Find a dataset that interests you and relates to a question or problem that you find intriguing\n",
    "2. Using a Jupyter notebook, describe the dataset, the source of the data, and the reason the dataset was of interest.\n",
    "3. Check the data and see if they need to be cleaned: are there missing values? Are there clearly erroneous values? Do two tables need to be merged together? Clean the data so it can be visualized.\n",
    "3. Plot the data, demonstrating interesting features that you discover. Are there any relationships between variables that were surprising or patterns that emerged? Please exercise creativity and curiosity in your plots.\n",
    "4. What insights are you able to take away from exploring the data? Is there a reason why analyzing the dataset you chose is particularly interesting or important? Summarize this as if your target audience was the readership of a major news organization - boil down your findings in a way that is accessible, but still accurate.\n",
    "5. Create a public repository on your github account titled \"machine-learning-course\". In it, create a readme file that contains the heading \"ECE590: Introductory Machine Learning for Data Science\". Add, commit, and push that Jupyter notebook to the master branch. Provide the link to the that post here."
   ]
  },
  {
   "cell_type": "markdown",
   "metadata": {},
   "source": [
    "**ANSWER**\n",
    "\n",
    "[Exploratory Data Analysis - Admission to graduate progams](https://github.com/joaquinmenendez/machine-learning-course/blob/master/Assignment%201/Exploratory%20Data%20Analysis.ipynb)"
   ]
  }
 ],
 "metadata": {
  "kernelspec": {
   "display_name": "Python 3",
   "language": "python",
   "name": "python3"
  },
  "language_info": {
   "codemirror_mode": {
    "name": "ipython",
    "version": 3
   },
   "file_extension": ".py",
   "mimetype": "text/x-python",
   "name": "python",
   "nbconvert_exporter": "python",
   "pygments_lexer": "ipython3",
   "version": "3.6.5"
  }
 },
 "nbformat": 4,
 "nbformat_minor": 2
}
