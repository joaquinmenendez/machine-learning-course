{
 "cells": [
  {
   "cell_type": "markdown",
   "metadata": {},
   "source": [
    "# Assignment 2 - Machine Learning Basics\n",
    "\n",
    "## *Joaquin Menendez*\n",
    "Netid:  *jm622*\n",
    "\n",
    "Github link: *https://gitlab.oit.duke.edu/ids705-sp19/joaquinmenendez/tree/master/Assignment_2*"
   ]
  },
  {
   "cell_type": "markdown",
   "metadata": {},
   "source": [
    "## Learning Objectives:\n",
    "1. Be able to apply basic regression and classification supervised learning techniques to data and evaluate the performance of those methods\n",
    "2. Understand the bias-variance tradeoff and how adjusting model flexibility impacts model selection and the training process"
   ]
  },
  {
   "cell_type": "markdown",
   "metadata": {},
   "source": [
    "# Conceptual Questions"
   ]
  },
  {
   "cell_type": "markdown",
   "metadata": {},
   "source": [
    "## 1\n",
    "**[5 points]**\n",
    "For each part (a) through (d), indicate whether we would generally expect the performance of a flexible statistical learning method to be better or worse than an inflexible method. Justify your answer.\n",
    "\n",
    "1. The sample size $n$ is extremely large, and the number of predictors $p$ is small.<br>\n",
    "A flexible model would be my first option. Given that I do not know the data distribution, and  also I can take advantage the big sample size to train my model, I would prefer to fit a flexible model. Unless the distribution of this sample was clearly linear. The information provided do not let me know that so, I would chose the Flexibel model.\n",
    "\n",
    "2. The number of predictors $p$ is extremely large, and the number of observations $n$ is small.<br>\n",
    "I think that if an inflexible model could be fitted with a low MSE, despite having multiple predictors, is going to be less sensitive to the variance when tested against new cases. A flexible model is going to be prone to overfitting, implying low performance on the test of new cases. Altough, this claim  will be only true if the number of my predictors is < than my number of samples. If there is a very big assymetry, is going to be difficult to fit a inflexible model (as a linear regression, assuming that parametric models are less flesible than no parametric), in this case I would say that the flexible model would be better.\n",
    "\n",
    "3. The relationship between the predictors and response is highly non-linear.<br>\n",
    "It depends on the type on non linear relationship. Some types of non-linear realtionship could be modelated using non-linear transformation (as a quadratic or log transformation). So, in these cases, the model could be very inflexible (as for example a linear regression with a quadratic $\\beta_i$,  $y = \\beta_0 + \\beta_1 x_1 + \\beta_2 x_1$). Such cases could be better than flexible models. On the other hand, when the relationship do not have an aproachable transformation, a flexible method would fit better than an inflexible one given that this last one could be extremely biased. Given that the above statement say: 'Highly non-linear' I would choice the flexible one.\n",
    "\n",
    "4. The variance of the error terms, i.e. $\\sigma^2 = Var(\\epsilon)$, is extremely high.<br>\n",
    "Given that a flexible model would try to take in count the variability of the training dataset, is going to introduce noise to the final model. A inflexible model would be a good approach, despite that could be biasing (or oversimplifying the real relationship of our data).\n"
   ]
  },
  {
   "cell_type": "markdown",
   "metadata": {},
   "source": [
    "**ANSWER**"
   ]
  },
  {
   "cell_type": "markdown",
   "metadata": {},
   "source": [
    "## 2\n",
    "**[5 points]** For each of the following, (i) explain if each scenario is a classification or regression problem, (ii) indicate whether we are most interested in inference or prediction for that problem, and (iii) provide the sample size $n$ and number of predictors $p$ indicated for each scenario.\n",
    "\n",
    "**(a)** We collect a set of data on the top 500 firms in the US. For each firm we record profit, number of employees, industry and the CEO salary. We are interested in understanding which factors affect CEO salary.<br>\n",
    "Predictors/Independent Variables= 3 {record profit, number of employees, industry}\n",
    "Targe/depedent variable = CEO salary\n",
    "Assuming each firm has only one CEO the Sample size would be  500. \n",
    "This is a case of regression. The interest is on the amount of money or salary a CEO  earns (a quantitative variable). It seems that the principal interest is to understand the relation of 3 independent variables with the salary and how they modulate it, so I would say this is an inference problem. \n",
    "\n",
    "**(b)** We are considering launching a new product and wish to know whether it will be a success or a failure. We collect data on 20 similar products that were previously launched. For each product we have recorded whether it was a success or failure, price charged for the product, marketing budget, competition price, and ten other variables.<br>\n",
    "Predictors/Independent Variables= 13 {price charged for the product, marketing budget, competition price, and ten other variables}\n",
    "Targe/depedent variable = Succes or failure\n",
    "Assuming each product has the 13 variables collected the sample size would be 20. \n",
    "The principal interest in this case seems to be the prediction of the succes of a specific product (binary variable {succes or failure}), ergo is a classification problem.\n",
    "\n",
    "\n",
    "**(c)** We are interesting in predicting the % change in the US dollar in relation to the weekly changes in the world stock markets. Hence we collect weekly data for all of 2012. For each week we record the % change in the dollar, the % change in the US market, the % change in the British market, and the % change in the German market.<br>\n",
    "Predictors/Independent Variables = 3  {eekly % change in the US market,  Weekly % change in the British market,  Weekly % change in the German market}\n",
    "Targe/depedent variable = % change in the US dollar.\n",
    "Given a year has 52 weeks,  the sample size will be 52.\n",
    "Given that the interest in this case is to predict the estimate value of the US dollar we can afirm that this is a regression problem.\n"
   ]
  },
  {
   "cell_type": "markdown",
   "metadata": {},
   "source": [
    "**ANSWER**"
   ]
  },
  {
   "cell_type": "markdown",
   "metadata": {},
   "source": [
    "# Practical Questions"
   ]
  },
  {
   "cell_type": "markdown",
   "metadata": {},
   "source": [
    "## 3\n",
    "**[20 points] Classification I: Creating a classification algorithm**.\n",
    "\n",
    "**(a)** Build a working version of a binary kNN classifier using the skeleton code below.\n",
    "\n",
    "**(b)** Load the datasets to be evaluated here. Each includes training features ($\\mathbf{X}$), and test features ($\\mathbf{y}$) for both a low dimensional ($p = 2$ features/predictors) and a high dimensional ($p = 100$ features/predictors). For each of these datasets there are $n=100$ observations of each. They can be found in the `data` subfolder in the `assignments` folder on github. Each file is labeled similar to `A2_X_train_low.csv`, which lets you know whether the dataset is of features, $X$, targets, $y$; training or testing; and low or high dimensions.\n",
    "\n",
    "**(c)** Train your classifier on first the low dimensional dataset and then the high dimensional dataset with $k=5$. Evaluate the classification performance on the corresponding test data for each. Calculate the time it takes to make the predictions in each case and the overall accuracy of each set of test data predictions.\n",
    "\n",
    "**(d)** Compare your implementation's accuracy and computation time to the scikit learn [KNeighborsClassifier](http://scikit-learn.org/stable/modules/generated/sklearn.neighbors.KNeighborsClassifier.html) class. How do the results and speed compare?\n",
    "\n",
    "**(e)** Some supervised learning algorithms are more computationally intensive during training than testing. What are the drawbacks of the prediction process being slow?"
   ]
  },
  {
   "cell_type": "markdown",
   "metadata": {},
   "source": [
    "**ANSWER**:"
   ]
  },
  {
   "cell_type": "code",
   "execution_count": 1087,
   "metadata": {
    "collapsed": true
   },
   "outputs": [],
   "source": [
    "# (a) Write your own kNN classifier\n",
    "\n",
    "# Importing libraries\n",
    "import numpy as np\n",
    "import matplotlib.pyplot as plt\n",
    "import scipy as sp\n",
    "import pandas as pd\n",
    "import time\n",
    "import sklearn as sk\n",
    "from scipy import stats"
   ]
  },
  {
   "cell_type": "code",
   "execution_count": 534,
   "metadata": {
    "collapsed": true
   },
   "outputs": [],
   "source": [
    "#Make a Knn class\n",
    "class Knn:\n",
    "# k-Nearest Neighbor class object for classification training and testing\n",
    "    def __init__(self):\n",
    "        return\n",
    "        \n",
    "    def fit(self, x, y):\n",
    "        # Save the training data to properties of this class\n",
    "        self.x =  x.values #np.array(x)\n",
    "        self.y =  y.values #np.array(y)\n",
    "        return\n",
    "    # I need to check if this is going to be \n",
    "    def assign_label(distances, y, k):\n",
    "        sort_index = np.zeros((distances.shape[0],distances.shape[0]))\n",
    "        labels = np.zeros((y.shape[0], k))   # Only one dimension vector, because the Y dataset is a list with labels\n",
    "        for row in range(0,distances.shape[0]):\n",
    "            sort_index[row] = (np.argsort(distances[row,:]))\n",
    "           \n",
    "        for n_label in range(0,k):\n",
    "            index = int(sort_index[row][n_label]) # I scrap the index \n",
    "            #print(index)\n",
    "            labels[row][n_label] = y[index] # is going to make a dataframe with rows being the row order from the X data,\n",
    "                                            # and on the columns the labels from KN.\n",
    "        return labels \n",
    "            \n",
    "    def average_labels(labels,row):\n",
    "        return round(np.mean(labels[row]),0)\n",
    "    \n",
    "    def predict(self, x_test, k):\n",
    "        self.k = k\n",
    "        self.x_test =  x_test.values\n",
    "        y_hat = np.zeros((self.y.shape[0],1)) # Variable to store the estimated class label for \n",
    "        # Calculate the distance from each vector in x to the training data\n",
    "        distances = np.zeros((self.x_test.shape[0],self.x_test.shape[0])) # a -> number of features that we are going to use as origin. ROWS \n",
    "                                                                # b -> number of features that we are going to compare with.  \n",
    "                # Alwasy is going to be a square matrix because we are going to compare all the values against each other.\n",
    "        self.distances = distances\n",
    "        for row in range(0,self.x_test.shape[0]):   # Testing X\n",
    "            for row2 in range(0,self.x.shape[0]):  # Training X\n",
    "                col2 = row2\n",
    "                distances[row,col2] = sp.spatial.distance.euclidean(self.x_test[row,:],self.x[row2,:])   #\n",
    "        labels = assign_label(distances,self.y,k) # Y Training.\n",
    "        self.labels = labels\n",
    "        # Return the estimated targets\n",
    "        for row in range(0,y_hat.shape[0]):\n",
    "            y_hat[row] = average_labels(self.labels,row)\n",
    "        self.y_hat = y_hat\n",
    "        return y_hat\n",
    "\n",
    "# Metric of overall classification accuracy\n",
    "#  (a more general function, sklearn.metrics.accuracy_score, is also available)\n",
    "def accuracy(y,y_hat):\n",
    "    y = y.values\n",
    "    nvalues = len(y)\n",
    "    accuracy = sum(y == y_hat) / nvalues\n",
    "    accuracy = float(accuracy)\n",
    "    return accuracy"
   ]
  },
  {
   "cell_type": "code",
   "execution_count": 482,
   "metadata": {
    "collapsed": true
   },
   "outputs": [],
   "source": [
    "# Evaluate the performance of your kNN classifier on a low- and a high-dimensional dataset \n",
    "#   and time the predictions of each"
   ]
  },
  {
   "cell_type": "code",
   "execution_count": 527,
   "metadata": {},
   "outputs": [],
   "source": [
    "#Importing datasets\n",
    "Xlow = pd.read_csv('./data/A2_X_train_low.csv', header=-1)\n",
    "Ylow = pd.read_csv('./data/A2_y_train_low.csv', header=-1)\n",
    "Xhigh = pd.read_csv('./data/A2_X_train_high.csv', header=-1)\n",
    "Yhigh = pd.read_csv('./data/A2_y_train_high.csv', header=-1)\n",
    "test_Xlow = pd.read_csv('./data/A2_X_test_low.csv', header=-1)\n",
    "test_Ylow = pd.read_csv('./data/A2_y_test_low.csv', header=-1)\n",
    "test_Xhigh = pd.read_csv('./data/A2_X_test_high.csv', header=-1)\n",
    "test_Yhigh = pd.read_csv('./data/A2_y_test_high.csv', header=-1)"
   ]
  },
  {
   "cell_type": "code",
   "execution_count": 590,
   "metadata": {},
   "outputs": [
    {
     "name": "stdout",
     "output_type": "stream",
     "text": [
      "Time [sec] for low-dimensionality: 16.187975\n",
      "The accuracy of the low-dimensional model is: 0.925000\n"
     ]
    }
   ],
   "source": [
    "start = time.time()\n",
    "model = Knn()\n",
    "model.fit(x=Xlow,y=Ylow)\n",
    "yhat = model.predict(k=5, x_test=test_Xlow)\n",
    "acc_low = accuracy(test_Ylow,yhat)\n",
    "end = time.time()\n",
    "t_low = end - start\n",
    "print('Time [sec] for low-dimensionality: %f' % t_low)\n",
    "print('The accuracy of the low-dimensional model is: %f' %acc_low)"
   ]
  },
  {
   "cell_type": "code",
   "execution_count": 592,
   "metadata": {},
   "outputs": [
    {
     "name": "stdout",
     "output_type": "stream",
     "text": [
      "Time [sec] for High-dimensionality: 17.769409\n",
      "The accuracy of the High-dimensional model is: 0.993000\n"
     ]
    }
   ],
   "source": [
    "start = time.time()\n",
    "model = Knn()\n",
    "model.fit(x=Xhigh,y=Yhigh)\n",
    "yhat = model.predict(k=5, x_test=test_Xhigh)\n",
    "acc_high = accuracy(test_Yhigh,yhat)\n",
    "end = time.time()\n",
    "t_high = end - start\n",
    "print('Time [sec] for High-dimensionality: %f' % t_high)\n",
    "print('The accuracy of the High-dimensional model is: %f' %acc_high)"
   ]
  },
  {
   "cell_type": "markdown",
   "metadata": {},
   "source": [
    "c) "
   ]
  },
  {
   "cell_type": "code",
   "execution_count": 593,
   "metadata": {},
   "outputs": [
    {
     "name": "stderr",
     "output_type": "stream",
     "text": [
      "C:\\Users\\joaqu\\Anaconda3\\lib\\site-packages\\ipykernel_launcher.py:4: DataConversionWarning: A column-vector y was passed when a 1d array was expected. Please change the shape of y to (n_samples, ), for example using ravel().\n",
      "  after removing the cwd from sys.path.\n"
     ]
    },
    {
     "name": "stdout",
     "output_type": "stream",
     "text": [
      "Time [sec] for High-dimensionality using Scikit: 0.218408\n",
      "The accuracy of the High-dimensional model is: 0.993000\n"
     ]
    }
   ],
   "source": [
    "start = time.time()\n",
    "model = sk.neighbors.KNeighborsClassifier(n_neighbors= 5)\n",
    "model.fit(X=Xhigh,y=Yhigh)\n",
    "acc = model.score(X=test_Xhigh,y=test_Yhigh)\n",
    "end = time.time()\n",
    "s_t_high = end - start\n",
    "print('Time [sec] for High-dimensionality using Scikit: %f' % s_t_high)\n",
    "print('The accuracy of the High-dimensional model is: %f' %acc)"
   ]
  },
  {
   "cell_type": "code",
   "execution_count": 587,
   "metadata": {},
   "outputs": [
    {
     "name": "stdout",
     "output_type": "stream",
     "text": [
      "Time [sec] for Low-dimensionality using Scikit: 0.006981\n",
      "The accuracy of the Low-dimensional model is: 0.925000\n"
     ]
    },
    {
     "name": "stderr",
     "output_type": "stream",
     "text": [
      "C:\\Users\\joaqu\\Anaconda3\\lib\\site-packages\\ipykernel_launcher.py:3: DataConversionWarning: A column-vector y was passed when a 1d array was expected. Please change the shape of y to (n_samples, ), for example using ravel().\n",
      "  This is separate from the ipykernel package so we can avoid doing imports until\n"
     ]
    }
   ],
   "source": [
    "start = time.time()\n",
    "model = sk.neighbors.KNeighborsClassifier(n_neighbors= 5)\n",
    "model.fit(X=Xlow,y=Ylow)\n",
    "acc = model.score(X=test_Xlow,y=test_Ylow)\n",
    "end = time.time()\n",
    "s_t_low = end - start\n",
    "print('Time [sec] for Low-dimensionality using Scikit: %f' % s_t_low)\n",
    "print('The accuracy of the Low-dimensional model is: %f' %acc)"
   ]
  },
  {
   "cell_type": "code",
   "execution_count": 604,
   "metadata": {},
   "outputs": [
    {
     "name": "stdout",
     "output_type": "stream",
     "text": [
      "When we observe the accuracy of the different models, we do not observe differences between the models.\n",
      "When we compare the difference between speed of the different algorithm we observe that the scikit learning algorithm is 2318.90  faster for the low dimensional dataset and 81.36  faster for the High dimensional\n"
     ]
    }
   ],
   "source": [
    "print('When we observe the accuracy of the different models, we do not observe differences between the models.\\nWhen we compare the difference between speed of the different algorithm we observe that the scikit learning algorithm is %.2f  faster for the low dimensional dataset and %.2f  faster for the High dimensional' % (t_low/s_t_low,t_high/s_t_high))"
   ]
  },
  {
   "cell_type": "markdown",
   "metadata": {},
   "source": [
    " e) What are the drawbacks of the prediction process being slow? The principal drawback of a model with low prediction speed is that is not suitable for real-time analysis where the data stream is very fast. In these cases the analysis will be always late to predict future events."
   ]
  },
  {
   "cell_type": "markdown",
   "metadata": {},
   "source": [
    "## 4\n",
    "**[10 points] Classification II**. The table below provides a training dataset containing six observations ($n=6$), three predictors ($p=3$), and one qualitative response variable.\n",
    "\n",
    "*Table 1. Dataset with $n=6$ observations in $p=3$ dimensions with a categorical response, $y$*\n",
    "\n",
    "| Obs. | $x_1$ | $x_2$ | $x_3$ | $y$   |\n",
    "|------|-------|-------|-------|-------|\n",
    "| **1**| 0     | 3     | 0     | Red   |\n",
    "| **2**| 2     | 0     | 0     | Red   |\n",
    "| **3**| 0     | 1     | 3     | Red   |\n",
    "| **4**| 0     | 1     | 2     | Blue  |\n",
    "| **5**| -1    | 0     | 1     | Blue  |\n",
    "| **6**| 1     | 1     | 1     | Red   |\n",
    "\n",
    "We want to use this dataset to make a prediction for $y$ when $x_1=x_2=x_3=0$ using $K$-nearest neighbors. You are given some code below to get you started.\n",
    "\n",
    "**(a)** Compute the Euclidean distance between each observation and the test point, $x_1=x_2=x_3=0$. Present your answer in a table similar in style to Table 1 with observations 1-6 as the row headers.\n",
    "\n",
    "**(b)** What is our prediction with $K=1$? Why?\n",
    "\n",
    "**(c)** What is our prediction with $K=3$? Why?\n",
    "\n",
    "**(d)** If the Bayes decision boundary (the optimal decision boundary) in this problem is highly nonlinear, then would we expect the *best* value of $K$ to be large or small? Why?"
   ]
  },
  {
   "cell_type": "code",
   "execution_count": 826,
   "metadata": {
    "collapsed": true
   },
   "outputs": [],
   "source": [
    "import numpy as np\n",
    "\n",
    "X = np.array([[ 0, 3, 0],\n",
    "              [ 2, 0, 0],\n",
    "              [ 0, 1, 3],\n",
    "              [ 0, 1, 2],\n",
    "              [-1, 0, 1],\n",
    "              [ 1, 1, 1]])\n",
    "y = np.array(['r','r','r','b','b','r'])\n",
    "\n",
    "#a)\n",
    "\n",
    "matrix = np.zeros((1,6))\n",
    "prediction = np.array([0,0,0])\n",
    "for n,row in enumerate(X):\n",
    "    matrix[0][n] = (sp.spatial.distance.euclidean(row,prediction))"
   ]
  },
  {
   "cell_type": "code",
   "execution_count": 827,
   "metadata": {},
   "outputs": [
    {
     "data": {
      "text/html": [
       "<div>\n",
       "<style scoped>\n",
       "    .dataframe tbody tr th:only-of-type {\n",
       "        vertical-align: middle;\n",
       "    }\n",
       "\n",
       "    .dataframe tbody tr th {\n",
       "        vertical-align: top;\n",
       "    }\n",
       "\n",
       "    .dataframe thead th {\n",
       "        text-align: right;\n",
       "    }\n",
       "</style>\n",
       "<table border=\"1\" class=\"dataframe\">\n",
       "  <thead>\n",
       "    <tr style=\"text-align: right;\">\n",
       "      <th></th>\n",
       "      <th>Obs</th>\n",
       "      <th>x1</th>\n",
       "      <th>x2</th>\n",
       "      <th>x3</th>\n",
       "      <th>Distance to 0</th>\n",
       "      <th>y</th>\n",
       "    </tr>\n",
       "  </thead>\n",
       "  <tbody>\n",
       "    <tr>\n",
       "      <th>0</th>\n",
       "      <td>1</td>\n",
       "      <td>0</td>\n",
       "      <td>3</td>\n",
       "      <td>0</td>\n",
       "      <td>3.000000</td>\n",
       "      <td>r</td>\n",
       "    </tr>\n",
       "    <tr>\n",
       "      <th>1</th>\n",
       "      <td>2</td>\n",
       "      <td>2</td>\n",
       "      <td>0</td>\n",
       "      <td>0</td>\n",
       "      <td>2.000000</td>\n",
       "      <td>r</td>\n",
       "    </tr>\n",
       "    <tr>\n",
       "      <th>2</th>\n",
       "      <td>3</td>\n",
       "      <td>0</td>\n",
       "      <td>1</td>\n",
       "      <td>3</td>\n",
       "      <td>3.162278</td>\n",
       "      <td>r</td>\n",
       "    </tr>\n",
       "    <tr>\n",
       "      <th>3</th>\n",
       "      <td>4</td>\n",
       "      <td>0</td>\n",
       "      <td>1</td>\n",
       "      <td>2</td>\n",
       "      <td>2.236068</td>\n",
       "      <td>b</td>\n",
       "    </tr>\n",
       "    <tr>\n",
       "      <th>4</th>\n",
       "      <td>5</td>\n",
       "      <td>-1</td>\n",
       "      <td>0</td>\n",
       "      <td>1</td>\n",
       "      <td>1.414214</td>\n",
       "      <td>b</td>\n",
       "    </tr>\n",
       "    <tr>\n",
       "      <th>5</th>\n",
       "      <td>6</td>\n",
       "      <td>1</td>\n",
       "      <td>1</td>\n",
       "      <td>1</td>\n",
       "      <td>1.732051</td>\n",
       "      <td>r</td>\n",
       "    </tr>\n",
       "  </tbody>\n",
       "</table>\n",
       "</div>"
      ],
      "text/plain": [
       "   Obs  x1  x2  x3  Distance to 0  y\n",
       "0    1   0   3   0       3.000000  r\n",
       "1    2   2   0   0       2.000000  r\n",
       "2    3   0   1   3       3.162278  r\n",
       "3    4   0   1   2       2.236068  b\n",
       "4    5  -1   0   1       1.414214  b\n",
       "5    6   1   1   1       1.732051  r"
      ]
     },
     "execution_count": 827,
     "metadata": {},
     "output_type": "execute_result"
    }
   ],
   "source": [
    "Matrix = pd.DataFrame(data = {'Obs': range(1,7),\n",
    "                              'x1' : X.T[0][:],\n",
    "                              'x2' : X.T[1][:],\n",
    "                              'x3' : X.T[2][:],\n",
    "                              'Distance to 0' : matrix[0][:],\n",
    "                               'y' : y})\n",
    "Matrix"
   ]
  },
  {
   "cell_type": "markdown",
   "metadata": {},
   "source": [
    "**ANSWER**:"
   ]
  },
  {
   "cell_type": "markdown",
   "metadata": {},
   "source": [
    "b)\n",
    "If we use a K=1 to try to classify this $(0,0,0)$ vector, the label would be `Blue`. Given that the unique closest value (KNN = 1) to $(0,0,0)$ is the $4^{th}$ observation, and the category of this observation is blue,  the output of the $(0,0,0)$ would be `Blue`."
   ]
  },
  {
   "cell_type": "markdown",
   "metadata": {},
   "source": [
    "c) Using a K=3 the the vector $(0,0,0)$ would be classified as `Red`. The 3 closest neighbors to this vector would be the $4^{th},5^{th},2^{nd}$ observations, in that order. Given that we have 2 red observations ($2^{nd}$ and $5^{th}$) and ony one blue ($4^{th}$ observation) the output would be `Red`."
   ]
  },
  {
   "cell_type": "markdown",
   "metadata": {},
   "source": [
    "d) If the Bayes decision boundary is very non-linear is going to be better to have a low number of K. This is because when the number ok K increase the model becomes less flexible, ergo more close to a linear decision boundary."
   ]
  },
  {
   "cell_type": "markdown",
   "metadata": {},
   "source": [
    "## 5\n",
    "**[20 points] Bias-variance tradeoff I: Understanding the tradeoff**. This exercise will illustrate the impact of the bias-variance tradeoff on classifier performance by looking at classifier decision boundaries.\n",
    "\n",
    "**(a)** Create a synthetic dataset (with both features and targets). Use the [`make_moons`](http://scikit-learn.org/stable/modules/generated/sklearn.datasets.make_moons.html#sklearn.datasets.make_moons) module with the parameter `noise=0.35` to generate 1000 random samples.\n",
    "\n",
    "**(b)** Scatterplot your random samples with each class in a different color\n",
    "\n",
    "**(c)** Create 3 different data subsets by selecting 100 of the 1000 data points at random three times. For each of these 100-sample datasets, fit three k-Nearest Neighbor classifiers with: $k = \\{1, 25, 50\\}$. This will result in 9 combinations (3 datasets, with 3 trained classifiers).\n",
    "\n",
    "**(d)** For each combination of dataset trained classifier, in a 3-by-3 grid, plot the decision boundary (similar in style to Figure 2.15 from *Introduction to Statistical Learning*). Each column should represent a different value of $k$ and each row should represent a different dataset.\n",
    "\n",
    "**(e)** What do you notice about the difference between the rows and the columns. Which decision boundaries appear to best separate the two classes of data? Which decision boundaries vary the most as the data change?\n",
    "\n",
    "**(f)** Explain the bias-variance tradeoff using the example of the plots you made in this exercise."
   ]
  },
  {
   "cell_type": "markdown",
   "metadata": {},
   "source": [
    "**ANSWER**"
   ]
  },
  {
   "cell_type": "code",
   "execution_count": 1089,
   "metadata": {},
   "outputs": [],
   "source": [
    "from sklearn.datasets import make_moons"
   ]
  },
  {
   "cell_type": "code",
   "execution_count": 1092,
   "metadata": {},
   "outputs": [],
   "source": [
    "syncdat = make_moons(n_samples=1000, noise= 0.35) #It creates a 2D data set (2 parameters) with 2 possible labels. \n",
    "#Standard deviation of Gaussian noise added to the data (0.35)"
   ]
  },
  {
   "cell_type": "code",
   "execution_count": 1158,
   "metadata": {},
   "outputs": [
    {
     "data": {
      "text/html": [
       "<div>\n",
       "<style scoped>\n",
       "    .dataframe tbody tr th:only-of-type {\n",
       "        vertical-align: middle;\n",
       "    }\n",
       "\n",
       "    .dataframe tbody tr th {\n",
       "        vertical-align: top;\n",
       "    }\n",
       "\n",
       "    .dataframe thead th {\n",
       "        text-align: right;\n",
       "    }\n",
       "</style>\n",
       "<table border=\"1\" class=\"dataframe\">\n",
       "  <thead>\n",
       "    <tr style=\"text-align: right;\">\n",
       "      <th></th>\n",
       "      <th>Param1</th>\n",
       "      <th>Param2</th>\n",
       "      <th>Label</th>\n",
       "    </tr>\n",
       "  </thead>\n",
       "  <tbody>\n",
       "    <tr>\n",
       "      <th>0</th>\n",
       "      <td>1.084075</td>\n",
       "      <td>0.139435</td>\n",
       "      <td>0</td>\n",
       "    </tr>\n",
       "    <tr>\n",
       "      <th>1</th>\n",
       "      <td>0.336047</td>\n",
       "      <td>0.888625</td>\n",
       "      <td>0</td>\n",
       "    </tr>\n",
       "    <tr>\n",
       "      <th>2</th>\n",
       "      <td>0.627225</td>\n",
       "      <td>1.351418</td>\n",
       "      <td>0</td>\n",
       "    </tr>\n",
       "    <tr>\n",
       "      <th>3</th>\n",
       "      <td>-1.409012</td>\n",
       "      <td>0.591100</td>\n",
       "      <td>0</td>\n",
       "    </tr>\n",
       "    <tr>\n",
       "      <th>4</th>\n",
       "      <td>1.338744</td>\n",
       "      <td>0.273223</td>\n",
       "      <td>0</td>\n",
       "    </tr>\n",
       "    <tr>\n",
       "      <th>5</th>\n",
       "      <td>0.390112</td>\n",
       "      <td>-0.556268</td>\n",
       "      <td>1</td>\n",
       "    </tr>\n",
       "    <tr>\n",
       "      <th>6</th>\n",
       "      <td>0.883903</td>\n",
       "      <td>0.242145</td>\n",
       "      <td>0</td>\n",
       "    </tr>\n",
       "    <tr>\n",
       "      <th>7</th>\n",
       "      <td>0.115678</td>\n",
       "      <td>-0.576668</td>\n",
       "      <td>1</td>\n",
       "    </tr>\n",
       "    <tr>\n",
       "      <th>8</th>\n",
       "      <td>1.727356</td>\n",
       "      <td>0.289925</td>\n",
       "      <td>1</td>\n",
       "    </tr>\n",
       "    <tr>\n",
       "      <th>9</th>\n",
       "      <td>0.723213</td>\n",
       "      <td>0.034041</td>\n",
       "      <td>1</td>\n",
       "    </tr>\n",
       "  </tbody>\n",
       "</table>\n",
       "</div>"
      ],
      "text/plain": [
       "     Param1    Param2  Label\n",
       "0  1.084075  0.139435      0\n",
       "1  0.336047  0.888625      0\n",
       "2  0.627225  1.351418      0\n",
       "3 -1.409012  0.591100      0\n",
       "4  1.338744  0.273223      0\n",
       "5  0.390112 -0.556268      1\n",
       "6  0.883903  0.242145      0\n",
       "7  0.115678 -0.576668      1\n",
       "8  1.727356  0.289925      1\n",
       "9  0.723213  0.034041      1"
      ]
     },
     "execution_count": 1158,
     "metadata": {},
     "output_type": "execute_result"
    }
   ],
   "source": [
    "df = pd.DataFrame(data = syncdat[0], columns=['Param1', 'Param2'])\n",
    "df['Label'] = syncdat[1]\n",
    "df.head(10)"
   ]
  },
  {
   "cell_type": "code",
   "execution_count": 1170,
   "metadata": {},
   "outputs": [
    {
     "ename": "AttributeError",
     "evalue": "module 'seaborn' has no attribute 'scatterplot'",
     "output_type": "error",
     "traceback": [
      "\u001b[1;31m---------------------------------------------------------------------------\u001b[0m",
      "\u001b[1;31mAttributeError\u001b[0m                            Traceback (most recent call last)",
      "\u001b[1;32m<ipython-input-1170-e820c694f176>\u001b[0m in \u001b[0;36m<module>\u001b[1;34m()\u001b[0m\n\u001b[0;32m      1\u001b[0m \u001b[0mplt\u001b[0m\u001b[1;33m.\u001b[0m\u001b[0mscatter\u001b[0m\u001b[1;33m(\u001b[0m\u001b[0mdf\u001b[0m\u001b[1;33m[\u001b[0m\u001b[1;34m'Param1'\u001b[0m\u001b[1;33m]\u001b[0m\u001b[1;33m,\u001b[0m\u001b[0mdf\u001b[0m\u001b[1;33m[\u001b[0m\u001b[1;34m'Param2'\u001b[0m\u001b[1;33m]\u001b[0m\u001b[1;33m,\u001b[0m \u001b[0mlabel\u001b[0m \u001b[1;33m=\u001b[0m \u001b[0mdf\u001b[0m\u001b[1;33m[\u001b[0m\u001b[1;34m'Label'\u001b[0m\u001b[1;33m]\u001b[0m\u001b[1;33m)\u001b[0m\u001b[1;33m\u001b[0m\u001b[0m\n\u001b[0;32m      2\u001b[0m \u001b[1;32mimport\u001b[0m \u001b[0mseaborn\u001b[0m\u001b[1;33m\u001b[0m\u001b[0m\n\u001b[1;32m----> 3\u001b[1;33m \u001b[0mseaborn\u001b[0m\u001b[1;33m.\u001b[0m\u001b[0mscatterplot\u001b[0m\u001b[1;33m(\u001b[0m\u001b[0mx\u001b[0m \u001b[1;33m=\u001b[0m \u001b[1;34m'Param1'\u001b[0m\u001b[1;33m,\u001b[0m \u001b[0my\u001b[0m \u001b[1;33m=\u001b[0m \u001b[0mParam2\u001b[0m\u001b[1;33m,\u001b[0m \u001b[0mhue\u001b[0m \u001b[1;33m=\u001b[0m \u001b[0mLabel\u001b[0m\u001b[1;33m,\u001b[0m \u001b[0mdata\u001b[0m\u001b[1;33m=\u001b[0m \u001b[0mdf\u001b[0m\u001b[1;33m)\u001b[0m\u001b[1;33m\u001b[0m\u001b[0m\n\u001b[0m",
      "\u001b[1;31mAttributeError\u001b[0m: module 'seaborn' has no attribute 'scatterplot'"
     ]
    },
    {
     "data": {
      "image/png": "[encoded data removed]",
      "text/plain": [
       "<Figure size 432x288 with 1 Axes>"
      ]
     },
     "metadata": {},
     "output_type": "display_data"
    }
   ],
   "source": [
    "plt.scatter(df['Param1'],df['Param2'], label = df['Label'])\n",
    "import seaborn\n",
    "seaborn.scatterplot(x = 'Param1', y = Param2, hue = Label, data= df)"
   ]
  },
  {
   "cell_type": "code",
   "execution_count": 1130,
   "metadata": {},
   "outputs": [
    {
     "data": {
      "text/plain": [
       "array([[ 1.08407459,  0.13943497],\n",
       "       [ 0.33604714,  0.88862534],\n",
       "       [ 0.62722518,  1.35141842],\n",
       "       ...,\n",
       "       [ 0.38052983, -0.39298184],\n",
       "       [ 0.71436651,  0.60506344],\n",
       "       [ 0.90713424,  1.00584514]])"
      ]
     },
     "execution_count": 1130,
     "metadata": {},
     "output_type": "execute_result"
    }
   ],
   "source": [
    "parameters"
   ]
  },
  {
   "cell_type": "code",
   "execution_count": null,
   "metadata": {},
   "outputs": [],
   "source": []
  },
  {
   "cell_type": "code",
   "execution_count": null,
   "metadata": {},
   "outputs": [],
   "source": []
  },
  {
   "cell_type": "code",
   "execution_count": null,
   "metadata": {},
   "outputs": [],
   "source": []
  },
  {
   "cell_type": "code",
   "execution_count": null,
   "metadata": {},
   "outputs": [],
   "source": []
  },
  {
   "cell_type": "markdown",
   "metadata": {},
   "source": [
    "## 6\n",
    "**[20 points] Bias-variance trade-off II: Quantifying the tradeoff**. This exercise will explore the impact of the bias-variance tradeoff on classifier performance by looking at classifier decision boundaries.\n",
    "\n",
    "Here, the value of $k$ determines how flexible our model is.\n",
    "\n",
    "**(a)** Using the function created earlier to generate random samples (using the `make_moons` function), create a new set of 1000 random samples, and call this dataset your test set and the previously created dataset your training set.\n",
    "\n",
    "**(b)** Train a kNN classifier on your training set for $k = 1,2,...500$. Apply each of these trained classifiers to both your training dataset and your test dataset and plot the classification error (fraction of mislabeled datapoints).\n",
    "\n",
    "**(c)** What trend do you see in the results?\n",
    "\n",
    "**(d)** What values of $k$ represent high bias and which represent high variance?\n",
    "\n",
    "**(e)** What is the optimal value of $k$ and why?\n",
    "\n",
    "**(f)** In kNN classifiers, the value of k controls the flexibility of the model - what controls the flexibility of other models?"
   ]
  },
  {
   "cell_type": "markdown",
   "metadata": {},
   "source": [
    "**ANSWER**"
   ]
  },
  {
   "cell_type": "markdown",
   "metadata": {},
   "source": [
    "## 7\n",
    "**[20 points] Linear regression and nonlinear transformations**. You're given a dataset below that is partitioned into a training and testing dataset. Your goal is to develop a regression algorithm from the training data that performs well on the test data.\n",
    "\n",
    "*Hint: Use the scikit learn [LinearRegression](http://scikit-learn.org/stable/modules/generated/sklearn.linear_model.LinearRegression.html) module.*\n",
    "\n",
    "**(a)** Create a scatter plot of your training data.\n",
    "\n",
    "**(b)** Estimate a linear regression model ($y = a_0 + a_1 x$) for the training data and calculate both the $R^2$ value and mean square error for the fit of that model for the training data. Also provide the equation representing the estimated model (e.g. $y = a_0 + a_1 x$, but with the estimated coefficients inserted.\n",
    "\n",
    "**(c)** A linear model does not mean that non-linear relationships cannot be explored. From looking at the scatter plot of the training data, choose a transformation of the predictor variable, $x$ that may make sense for these data. This will be a multiple regression model of the form $y = a_0 + a_1 x_1 + a_2 x_2 + \\ldots + a_n x_n$. Here $x_i$ could be any transformations of x - perhaps it's $\\frac{1}{x}$, $log(x)$, $sin(x)$, $x^k$ (where $k$ is any power of your choosing). Provide the estimated equation for this multiple regression model (e.g. if you chose your predictors to be $x_1 = x$ and $x_2 = log(x)$, your model would be of the form $y = a_0 + a_1 x + a_2 log(x)$. Also provide the $R^2$ and mean square error of the fit for the training data.\n",
    "\n",
    "**(d)** Using both of the models you created here in (b) and (c), plot the original data (as a scatter plot) and the two curves representing your models (each as a separate line).\n",
    "\n",
    "**(e)** Using the models above, apply them to the test data and estimate the $R^2$ and mean square error of the test dataset.\n",
    "\n",
    "**(f)** Which models perform better on the training data, and which on the test data? Why?\n",
    "\n",
    "**(g)** Imagine that the test data were significantly different from the training dataset. How might this affect the predictive capability of your model? Why?"
   ]
  },
  {
   "cell_type": "code",
   "execution_count": 1085,
   "metadata": {
    "collapsed": true
   },
   "outputs": [],
   "source": [
    "x_train = [3.19,9.26,9.38,8.77,7.91,3.79,3.18,7.61,2.36,6.26,6.62,1.53,6.25,7.93,7.07,4.58,4.14,2.14,9.04,4.56,3.99,6.71,2.51,0.84,6.13,5.22,0.25,3.60,1.36,5.59,4.81,1.14,0.36,2.31,1.37,5.86,4.23,9.48,2.26,0.77,4.33]\n",
    "y_train = [46.40,172.16,209.00,203.31,82.88,62.57,14.38,177.00,8.01,82.35,84.84,-5.59,54.96,167.17,83.09,-21.63,94.64,63.97,106.57,38.99,88.26,66.99,-11.12,-0.44,65.08,61.47,-0.61,23.85,10.55,83.69,54.35,51.82,-18.63,1.98,4.90,55.44,50.09,155.66,45.57,18.12,30.58]\n",
    "\n",
    "x_test = [5.65,0.07,8.84,5.14,6.65,1.35,5.45,7.39,3.35]\n",
    "y_test = [98.52,16.09,198.45,75.90,85.11,47.64,14.76,141.03,-39.13]\n",
    "\n",
    "train = pd.DataFrame(data= {'X': x_train, 'Y': y_train}) #transform the list into a pandas dataframe\n",
    "test = pd.DataFrame(data= {'X': x_test, 'Y': y_test})"
   ]
  },
  {
   "cell_type": "markdown",
   "metadata": {},
   "source": [
    "**ANSWER**"
   ]
  },
  {
   "cell_type": "code",
   "execution_count": 938,
   "metadata": {},
   "outputs": [
    {
     "data": {
      "text/plain": [
       "Text(0,0.5,'Y')"
      ]
     },
     "execution_count": 938,
     "metadata": {},
     "output_type": "execute_result"
    },
    {
     "data": {
      "image/png": "[encoded data removed]",
      "text/plain": [
       "<Figure size 432x288 with 1 Axes>"
      ]
     },
     "metadata": {},
     "output_type": "display_data"
    }
   ],
   "source": [
    "plt.scatter(x_train,y_train)\n",
    "plt.title('Scatter plot of training data')\n",
    "plt.xlabel('X')\n",
    "plt.ylabel('Y')"
   ]
  },
  {
   "cell_type": "code",
   "execution_count": 939,
   "metadata": {},
   "outputs": [
    {
     "name": "stdout",
     "output_type": "stream",
     "text": [
      "R2 = 0.701459 \n",
      "p = 0.000000 \n",
      "Intercept = -21.73 \n",
      "Slope = 18.30\n"
     ]
    },
    {
     "data": {
      "image/png": "[encoded data removed]",
      "text/plain": [
       "<Figure size 360x360 with 1 Axes>"
      ]
     },
     "metadata": {},
     "output_type": "display_data"
    }
   ],
   "source": [
    "g = sbn.lmplot(x='X', y= 'Y', data= train)   #Sanity check using the stat.lineregress to see if my training model is correct.\n",
    "plt.title(\"Scatter plot of training data\")\n",
    "slope, intercept, r_value, p_value, std_err = stats.linregress(x=train['X'], y=train['Y'])\n",
    "pred_values = slope * train['X'] + intercept\n",
    "residuals = train['Y'] - pred_values\n",
    "print ('R2 = %f \\np = %f \\nIntercept = %.2f \\nSlope = %.2f'% (r_value**2,p_value, intercept,slope))"
   ]
  },
  {
   "cell_type": "markdown",
   "metadata": {},
   "source": [
    "**4.b)**"
   ]
  },
  {
   "cell_type": "code",
   "execution_count": 1064,
   "metadata": {},
   "outputs": [],
   "source": [
    "# b)\n",
    "from sklearn import linear_model\n",
    "from sklearn.metrics import mean_squared_error, r2_score"
   ]
  },
  {
   "cell_type": "code",
   "execution_count": 1026,
   "metadata": {},
   "outputs": [],
   "source": [
    "x_train = np.array(x_train).reshape(-1,1)\n",
    "model = linear_model.LinearRegression().fit(x_train, train['Y'])"
   ]
  },
  {
   "cell_type": "code",
   "execution_count": 1025,
   "metadata": {},
   "outputs": [
    {
     "name": "stdout",
     "output_type": "stream",
     "text": [
      "R2 = 0.701459\n",
      "Intercept = -21.730783\n",
      "Slope = 18.303207\n",
      "MSE = 1052.585366\n"
     ]
    }
   ],
   "source": [
    "print('R2 = %f' %model.score(x_train,y_train))\n",
    "print('Intercept = %f' % model.intercept_)\n",
    "print('Slope = %f' % model.coef_)\n",
    "y_test_pred = model.predict(x_train)\n",
    "print('MSE = %f' % mean_squared_error(y_train,y_test_pred))\n",
    "#y_test_pred"
   ]
  },
  {
   "cell_type": "markdown",
   "metadata": {},
   "source": [
    "The equation of the linear regression model is: $y = \\beta_0 + \\beta_1 X$\n",
    "$$y = -21.73 + 18.30 X $$"
   ]
  },
  {
   "cell_type": "markdown",
   "metadata": {},
   "source": [
    "**4.c)**"
   ]
  },
  {
   "cell_type": "markdown",
   "metadata": {},
   "source": [
    "Let's fit a logaritmic transformation and a square transformation"
   ]
  },
  {
   "cell_type": "code",
   "execution_count": 943,
   "metadata": {},
   "outputs": [],
   "source": [
    "train_new = train\n",
    "train_new['logX'] = np.log(train['X'])\n",
    "train_new['X^2'] = train['X']**2"
   ]
  },
  {
   "cell_type": "code",
   "execution_count": 944,
   "metadata": {},
   "outputs": [
    {
     "data": {
      "text/html": [
       "<div>\n",
       "<style scoped>\n",
       "    .dataframe tbody tr th:only-of-type {\n",
       "        vertical-align: middle;\n",
       "    }\n",
       "\n",
       "    .dataframe tbody tr th {\n",
       "        vertical-align: top;\n",
       "    }\n",
       "\n",
       "    .dataframe thead th {\n",
       "        text-align: right;\n",
       "    }\n",
       "</style>\n",
       "<table border=\"1\" class=\"dataframe\">\n",
       "  <thead>\n",
       "    <tr style=\"text-align: right;\">\n",
       "      <th></th>\n",
       "      <th>X</th>\n",
       "      <th>Y</th>\n",
       "      <th>logX</th>\n",
       "      <th>X^2</th>\n",
       "    </tr>\n",
       "  </thead>\n",
       "  <tbody>\n",
       "    <tr>\n",
       "      <th>0</th>\n",
       "      <td>3.19</td>\n",
       "      <td>46.40</td>\n",
       "      <td>1.160021</td>\n",
       "      <td>10.1761</td>\n",
       "    </tr>\n",
       "    <tr>\n",
       "      <th>1</th>\n",
       "      <td>9.26</td>\n",
       "      <td>172.16</td>\n",
       "      <td>2.225704</td>\n",
       "      <td>85.7476</td>\n",
       "    </tr>\n",
       "    <tr>\n",
       "      <th>2</th>\n",
       "      <td>9.38</td>\n",
       "      <td>209.00</td>\n",
       "      <td>2.238580</td>\n",
       "      <td>87.9844</td>\n",
       "    </tr>\n",
       "    <tr>\n",
       "      <th>3</th>\n",
       "      <td>8.77</td>\n",
       "      <td>203.31</td>\n",
       "      <td>2.171337</td>\n",
       "      <td>76.9129</td>\n",
       "    </tr>\n",
       "    <tr>\n",
       "      <th>4</th>\n",
       "      <td>7.91</td>\n",
       "      <td>82.88</td>\n",
       "      <td>2.068128</td>\n",
       "      <td>62.5681</td>\n",
       "    </tr>\n",
       "  </tbody>\n",
       "</table>\n",
       "</div>"
      ],
      "text/plain": [
       "      X       Y      logX      X^2\n",
       "0  3.19   46.40  1.160021  10.1761\n",
       "1  9.26  172.16  2.225704  85.7476\n",
       "2  9.38  209.00  2.238580  87.9844\n",
       "3  8.77  203.31  2.171337  76.9129\n",
       "4  7.91   82.88  2.068128  62.5681"
      ]
     },
     "execution_count": 944,
     "metadata": {},
     "output_type": "execute_result"
    }
   ],
   "source": [
    "train_new.head()"
   ]
  },
  {
   "cell_type": "code",
   "execution_count": 1070,
   "metadata": {},
   "outputs": [
    {
     "name": "stdout",
     "output_type": "stream",
     "text": [
      "R2 = 0.721946\n",
      "Intercept = -23.680150\n",
      "Slopes {B1,B2} = 25.082805, -23.330631\n",
      "MSE = 980.354954\n"
     ]
    }
   ],
   "source": [
    "#Fitting my model with a log transformation\n",
    "X = train_new.drop(['Y','X^2'], axis= 1)\n",
    "log_model = linear_model.LinearRegression().fit(X, train['Y'])\n",
    "\n",
    "print('R2 = %f' %log_model.score(X,train['Y']))\n",
    "print('Intercept = %f' % log_model.intercept_)\n",
    "print('Slopes {B1,B2} = %f, %f' % (log_model.coef_[0],log_model.coef_[1]))\n",
    "y_train_pred = log_model.predict(X)\n",
    "print('MSE = %f' % mean_squared_error(train['Y'],y_train_pred))"
   ]
  },
  {
   "cell_type": "markdown",
   "metadata": {},
   "source": [
    "The equation of the linear regression model with a log transformation is: $y = \\beta_0 + \\beta_1 X + \\beta_2\\:\\log{(X)}$\n",
    "$$y = -23.68 + 25.08 X  - 23.33\\log{(X)} $$"
   ]
  },
  {
   "cell_type": "code",
   "execution_count": 1013,
   "metadata": {},
   "outputs": [
    {
     "name": "stdout",
     "output_type": "stream",
     "text": [
      "R2 = 0.749048\n",
      "Intercept = 8.007337\n",
      "Slopes {B1,B2} = 0.471007, 1.832082\n",
      "MSE = 884.797760\n"
     ]
    }
   ],
   "source": [
    "#Fitting my model with a square transformation\n",
    "X = train_new.drop(['Y','logX'], axis= 1)\n",
    "square_model = linear_model.LinearRegression().fit(X, train['Y'])\n",
    "print('R2 = %f' %square_model.score(X,train['Y']))\n",
    "print('Intercept = %f' % square_model.intercept_)\n",
    "print('Slopes {B1,B2} = %f, %f' % (square_model.coef_[0],square_model.coef_[1]))\n",
    "y_train_pred = square_model.predict(X)\n",
    "print('MSE = %f' % mean_squared_error(train['Y'],y_train_pred))"
   ]
  },
  {
   "cell_type": "markdown",
   "metadata": {},
   "source": [
    "The equation of the linear regression model with a quadratic transformation is: $y = \\beta_0 + \\beta_1 X + \\beta_2 X^2$\n",
    "$$y = 8.007 + 0.471 X   1.832 X^2 $$"
   ]
  },
  {
   "cell_type": "markdown",
   "metadata": {},
   "source": [
    "**4.d)**\n",
    "Using both of the models you created here in (b) and (c), plot the original data (as a scatter plot) and the two curves representing your models (each as a separate line)."
   ]
  },
  {
   "cell_type": "code",
   "execution_count": 1009,
   "metadata": {},
   "outputs": [
    {
     "data": {
      "text/plain": [
       "<matplotlib.legend.Legend at 0x15c303e0ba8>"
      ]
     },
     "execution_count": 1009,
     "metadata": {},
     "output_type": "execute_result"
    },
    {
     "data": {
      "image/png": "[encoded data removed]",
      "text/plain": [
       "<Figure size 576x576 with 1 Axes>"
      ]
     },
     "metadata": {},
     "output_type": "display_data"
    }
   ],
   "source": [
    "# Alternative approach only with the coefficients\n",
    "'''\n",
    "def formula(x):\n",
    "    return (-21.73 + 18.30*x)\n",
    "plt.plot(train['X'],formula(train['X']))\n",
    "'''\n",
    "def formula_log(x):\n",
    "    return (-23.68 + (25.08*x)  - (23.33* np.log(x)))\n",
    "def formula_square(x):\n",
    "    return ( 8.007 + (0.471*x) +  1.832*(x**2))\n",
    "x_axis = np.linspace(min(train['X']),max(train['X']))\n",
    "\n",
    "#Plotting\n",
    "plt.figure(figsize= (8,8))\n",
    "plt.scatter(train['X'],train['Y'], label = None)\n",
    "plt.plot(train['X'],model.predict(x_train),label='Linear Model')\n",
    "plt.plot(x_axis,formula_log(x_axis),label='Log transformation')\n",
    "plt.plot(x_axis,formula_square(x_axis), label='Square transformation')\n",
    "plt.title('Scatter plot comparing models')\n",
    "plt.xlabel('X')\n",
    "plt.ylabel('Y')\n",
    "plt.legend()"
   ]
  },
  {
   "cell_type": "markdown",
   "metadata": {},
   "source": [
    "**4.e)**"
   ]
  },
  {
   "cell_type": "code",
   "execution_count": 1066,
   "metadata": {},
   "outputs": [
    {
     "name": "stdout",
     "output_type": "stream",
     "text": [
      "R2 = 0.555647\n",
      "MSE = 2023.312109\n"
     ]
    }
   ],
   "source": [
    "#linear model \n",
    "xtest = np.array(test['X']).reshape(-1,1)\n",
    "ytest = np.array(test['Y']).reshape(-1,1)\n",
    "model_y_predict = model.predict(xtest)\n",
    "print('R2 = %f' % r2_score(ytest,model_y_predict))\n",
    "print('MSE = %f' % mean_squared_error(ytest,model_y_predict))"
   ]
  },
  {
   "cell_type": "code",
   "execution_count": 1086,
   "metadata": {},
   "outputs": [
    {
     "data": {
      "text/html": [
       "<div>\n",
       "<style scoped>\n",
       "    .dataframe tbody tr th:only-of-type {\n",
       "        vertical-align: middle;\n",
       "    }\n",
       "\n",
       "    .dataframe tbody tr th {\n",
       "        vertical-align: top;\n",
       "    }\n",
       "\n",
       "    .dataframe thead th {\n",
       "        text-align: right;\n",
       "    }\n",
       "</style>\n",
       "<table border=\"1\" class=\"dataframe\">\n",
       "  <thead>\n",
       "    <tr style=\"text-align: right;\">\n",
       "      <th></th>\n",
       "      <th>X</th>\n",
       "      <th>Y</th>\n",
       "      <th>X^2</th>\n",
       "      <th>log(X)</th>\n",
       "    </tr>\n",
       "  </thead>\n",
       "  <tbody>\n",
       "    <tr>\n",
       "      <th>0</th>\n",
       "      <td>5.65</td>\n",
       "      <td>98.52</td>\n",
       "      <td>31.9225</td>\n",
       "      <td>1.731656</td>\n",
       "    </tr>\n",
       "    <tr>\n",
       "      <th>1</th>\n",
       "      <td>0.07</td>\n",
       "      <td>16.09</td>\n",
       "      <td>0.0049</td>\n",
       "      <td>-2.659260</td>\n",
       "    </tr>\n",
       "  </tbody>\n",
       "</table>\n",
       "</div>"
      ],
      "text/plain": [
       "      X      Y      X^2    log(X)\n",
       "0  5.65  98.52  31.9225  1.731656\n",
       "1  0.07  16.09   0.0049 -2.659260"
      ]
     },
     "execution_count": 1086,
     "metadata": {},
     "output_type": "execute_result"
    }
   ],
   "source": [
    "#Apply transformations to my test data.\n",
    "test['X^2'] = test['X']**2 \n",
    "test['log(X)'] =np.log(test['X'])\n",
    "test.head(2)"
   ]
  },
  {
   "cell_type": "code",
   "execution_count": 1083,
   "metadata": {},
   "outputs": [
    {
     "name": "stdout",
     "output_type": "stream",
     "text": [
      "R2 = 0.692782\n",
      "MSE = 1398.881758\n"
     ]
    }
   ],
   "source": [
    "# Square model \n",
    "model_y_predict = square_model.predict(test[['X','X^2']])\n",
    "print('R2 = %f' % r2_score(ytest,model_y_predict))\n",
    "print('MSE = %f' % mean_squared_error(ytest,model_y_predict))"
   ]
  },
  {
   "cell_type": "code",
   "execution_count": 1084,
   "metadata": {},
   "outputs": [
    {
     "name": "stdout",
     "output_type": "stream",
     "text": [
      "R2 = 0.631850\n",
      "MSE = 1676.328705\n"
     ]
    }
   ],
   "source": [
    "# Log model \n",
    "model_y_predict = log_model.predict(test[['X','log(X)']])\n",
    "print('R2 = %f' % r2_score(ytest,model_y_predict))\n",
    "print('MSE = %f' % mean_squared_error(ytest,model_y_predict))"
   ]
  },
  {
   "cell_type": "markdown",
   "metadata": {},
   "source": [
    "**4.f)** "
   ]
  },
  {
   "cell_type": "markdown",
   "metadata": {},
   "source": [
    "Three model were trained using the same training set, a linear regression model, a linear regression with a log transformation and a linear regression with a quadratic transformation. The model that performed better on the training data was the model with a quadratic transformation $(R^2=0.749, MSE=884.79)$. The model that was more accurate to predict new data was also the square model $(R^2=0.691, MSE=1398).$"
   ]
  },
  {
   "cell_type": "markdown",
   "metadata": {},
   "source": [
    "**4.g)**"
   ]
  },
  {
   "cell_type": "markdown",
   "metadata": {},
   "source": [
    "In the case that the test data were significantly different from the training dataset it would affect in a diferent way to the models tested. Given that the linear model is the more biased from the three, is going to be less sensitive to the variance of new data, experimenting minor changes in the predictability in comparision with the the square and logaritmic models. "
   ]
  },
  {
   "cell_type": "code",
   "execution_count": null,
   "metadata": {},
   "outputs": [],
   "source": []
  }
 ],
 "metadata": {
  "kernelspec": {
   "display_name": "Python 3",
   "language": "python",
   "name": "python3"
  },
  "language_info": {
   "codemirror_mode": {
    "name": "ipython",
    "version": 3
   },
   "file_extension": ".py",
   "mimetype": "text/x-python",
   "name": "python",
   "nbconvert_exporter": "python",
   "pygments_lexer": "ipython3",
   "version": "3.6.5"
  },
  "varInspector": {
   "cols": {
    "lenName": 16,
    "lenType": 16,
    "lenVar": 40
   },
   "kernels_config": {
    "python": {
     "delete_cmd_postfix": "",
     "delete_cmd_prefix": "del ",
     "library": "var_list.py",
     "varRefreshCmd": "print(var_dic_list())"
    },
    "r": {
     "delete_cmd_postfix": ") ",
     "delete_cmd_prefix": "rm(",
     "library": "var_list.r",
     "varRefreshCmd": "cat(var_dic_list()) "
    }
   },
   "types_to_exclude": [
    "module",
    "function",
    "builtin_function_or_method",
    "instance",
    "_Feature"
   ],
   "window_display": false
  }
 },
 "nbformat": 4,
 "nbformat_minor": 2
}
